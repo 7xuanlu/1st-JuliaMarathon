{
 "cells": [
  {
   "cell_type": "markdown",
   "metadata": {},
   "source": [
    "# Julia 機器學習：GLM 線性迴歸"
   ]
  },
  {
   "cell_type": "markdown",
   "metadata": {},
   "source": [
    "本範例需要使用到的套件有 GLM、RDatasets、MLDataUtils，請在執行以下範例前先安裝。\n",
    "\n",
    "```\n",
    "] add GLM\n",
    "] add RDatasets\n",
    "] add MLDataUtils\n",
    "```"
   ]
  },
  {
   "cell_type": "code",
   "execution_count": 1,
   "metadata": {},
   "outputs": [],
   "source": [
    "using GLM\n",
    "using RDatasets\n",
    "using MLDataUtils\n",
    "using Statistics"
   ]
  },
  {
   "cell_type": "markdown",
   "metadata": {},
   "source": [
    "## 單純線性迴歸模型示範"
   ]
  },
  {
   "cell_type": "markdown",
   "metadata": {},
   "source": [
    "## 載入資料"
   ]
  },
  {
   "cell_type": "code",
   "execution_count": 2,
   "metadata": {},
   "outputs": [
    {
     "data": {
      "text/html": [
       "<table class=\"data-frame\"><thead><tr><th></th><th>Year</th><th>GNPDeflator</th><th>GNP</th><th>Unemployed</th><th>ArmedForces</th><th>Population</th><th>Year_1</th><th>Employed</th></tr><tr><th></th><th>Int64</th><th>Float64</th><th>Float64</th><th>Float64</th><th>Float64</th><th>Float64</th><th>Int64</th><th>Float64</th></tr></thead><tbody><p>16 rows × 8 columns</p><tr><th>1</th><td>1947</td><td>83.0</td><td>234.289</td><td>235.6</td><td>159.0</td><td>107.608</td><td>1947</td><td>60.323</td></tr><tr><th>2</th><td>1948</td><td>88.5</td><td>259.426</td><td>232.5</td><td>145.6</td><td>108.632</td><td>1948</td><td>61.122</td></tr><tr><th>3</th><td>1949</td><td>88.2</td><td>258.054</td><td>368.2</td><td>161.6</td><td>109.773</td><td>1949</td><td>60.171</td></tr><tr><th>4</th><td>1950</td><td>89.5</td><td>284.599</td><td>335.1</td><td>165.0</td><td>110.929</td><td>1950</td><td>61.187</td></tr><tr><th>5</th><td>1951</td><td>96.2</td><td>328.975</td><td>209.9</td><td>309.9</td><td>112.075</td><td>1951</td><td>63.221</td></tr><tr><th>6</th><td>1952</td><td>98.1</td><td>346.999</td><td>193.2</td><td>359.4</td><td>113.27</td><td>1952</td><td>63.639</td></tr><tr><th>7</th><td>1953</td><td>99.0</td><td>365.385</td><td>187.0</td><td>354.7</td><td>115.094</td><td>1953</td><td>64.989</td></tr><tr><th>8</th><td>1954</td><td>100.0</td><td>363.112</td><td>357.8</td><td>335.0</td><td>116.219</td><td>1954</td><td>63.761</td></tr><tr><th>9</th><td>1955</td><td>101.2</td><td>397.469</td><td>290.4</td><td>304.8</td><td>117.388</td><td>1955</td><td>66.019</td></tr><tr><th>10</th><td>1956</td><td>104.6</td><td>419.18</td><td>282.2</td><td>285.7</td><td>118.734</td><td>1956</td><td>67.857</td></tr><tr><th>11</th><td>1957</td><td>108.4</td><td>442.769</td><td>293.6</td><td>279.8</td><td>120.445</td><td>1957</td><td>68.169</td></tr><tr><th>12</th><td>1958</td><td>110.8</td><td>444.546</td><td>468.1</td><td>263.7</td><td>121.95</td><td>1958</td><td>66.513</td></tr><tr><th>13</th><td>1959</td><td>112.6</td><td>482.704</td><td>381.3</td><td>255.2</td><td>123.366</td><td>1959</td><td>68.655</td></tr><tr><th>14</th><td>1960</td><td>114.2</td><td>502.601</td><td>393.1</td><td>251.4</td><td>125.368</td><td>1960</td><td>69.564</td></tr><tr><th>15</th><td>1961</td><td>115.7</td><td>518.173</td><td>480.6</td><td>257.2</td><td>127.852</td><td>1961</td><td>69.331</td></tr><tr><th>16</th><td>1962</td><td>116.9</td><td>554.894</td><td>400.7</td><td>282.7</td><td>130.081</td><td>1962</td><td>70.551</td></tr></tbody></table>"
      ],
      "text/latex": [
       "\\begin{tabular}{r|cccccccc}\n",
       "\t& Year & GNPDeflator & GNP & Unemployed & ArmedForces & Population & Year\\_1 & Employed\\\\\n",
       "\t\\hline\n",
       "\t& Int64 & Float64 & Float64 & Float64 & Float64 & Float64 & Int64 & Float64\\\\\n",
       "\t\\hline\n",
       "\t1 & 1947 & 83.0 & 234.289 & 235.6 & 159.0 & 107.608 & 1947 & 60.323 \\\\\n",
       "\t2 & 1948 & 88.5 & 259.426 & 232.5 & 145.6 & 108.632 & 1948 & 61.122 \\\\\n",
       "\t3 & 1949 & 88.2 & 258.054 & 368.2 & 161.6 & 109.773 & 1949 & 60.171 \\\\\n",
       "\t4 & 1950 & 89.5 & 284.599 & 335.1 & 165.0 & 110.929 & 1950 & 61.187 \\\\\n",
       "\t5 & 1951 & 96.2 & 328.975 & 209.9 & 309.9 & 112.075 & 1951 & 63.221 \\\\\n",
       "\t6 & 1952 & 98.1 & 346.999 & 193.2 & 359.4 & 113.27 & 1952 & 63.639 \\\\\n",
       "\t7 & 1953 & 99.0 & 365.385 & 187.0 & 354.7 & 115.094 & 1953 & 64.989 \\\\\n",
       "\t8 & 1954 & 100.0 & 363.112 & 357.8 & 335.0 & 116.219 & 1954 & 63.761 \\\\\n",
       "\t9 & 1955 & 101.2 & 397.469 & 290.4 & 304.8 & 117.388 & 1955 & 66.019 \\\\\n",
       "\t10 & 1956 & 104.6 & 419.18 & 282.2 & 285.7 & 118.734 & 1956 & 67.857 \\\\\n",
       "\t11 & 1957 & 108.4 & 442.769 & 293.6 & 279.8 & 120.445 & 1957 & 68.169 \\\\\n",
       "\t12 & 1958 & 110.8 & 444.546 & 468.1 & 263.7 & 121.95 & 1958 & 66.513 \\\\\n",
       "\t13 & 1959 & 112.6 & 482.704 & 381.3 & 255.2 & 123.366 & 1959 & 68.655 \\\\\n",
       "\t14 & 1960 & 114.2 & 502.601 & 393.1 & 251.4 & 125.368 & 1960 & 69.564 \\\\\n",
       "\t15 & 1961 & 115.7 & 518.173 & 480.6 & 257.2 & 127.852 & 1961 & 69.331 \\\\\n",
       "\t16 & 1962 & 116.9 & 554.894 & 400.7 & 282.7 & 130.081 & 1962 & 70.551 \\\\\n",
       "\\end{tabular}\n"
      ],
      "text/plain": [
       "16×8 DataFrame. Omitted printing of 2 columns\n",
       "│ Row │ Year  │ GNPDeflator │ GNP     │ Unemployed │ ArmedForces │ Population │\n",
       "│     │ \u001b[90mInt64\u001b[39m │ \u001b[90mFloat64\u001b[39m     │ \u001b[90mFloat64\u001b[39m │ \u001b[90mFloat64\u001b[39m    │ \u001b[90mFloat64\u001b[39m     │ \u001b[90mFloat64\u001b[39m    │\n",
       "├─────┼───────┼─────────────┼─────────┼────────────┼─────────────┼────────────┤\n",
       "│ 1   │ 1947  │ 83.0        │ 234.289 │ 235.6      │ 159.0       │ 107.608    │\n",
       "│ 2   │ 1948  │ 88.5        │ 259.426 │ 232.5      │ 145.6       │ 108.632    │\n",
       "│ 3   │ 1949  │ 88.2        │ 258.054 │ 368.2      │ 161.6       │ 109.773    │\n",
       "│ 4   │ 1950  │ 89.5        │ 284.599 │ 335.1      │ 165.0       │ 110.929    │\n",
       "│ 5   │ 1951  │ 96.2        │ 328.975 │ 209.9      │ 309.9       │ 112.075    │\n",
       "│ 6   │ 1952  │ 98.1        │ 346.999 │ 193.2      │ 359.4       │ 113.27     │\n",
       "│ 7   │ 1953  │ 99.0        │ 365.385 │ 187.0      │ 354.7       │ 115.094    │\n",
       "│ 8   │ 1954  │ 100.0       │ 363.112 │ 357.8      │ 335.0       │ 116.219    │\n",
       "│ 9   │ 1955  │ 101.2       │ 397.469 │ 290.4      │ 304.8       │ 117.388    │\n",
       "│ 10  │ 1956  │ 104.6       │ 419.18  │ 282.2      │ 285.7       │ 118.734    │\n",
       "│ 11  │ 1957  │ 108.4       │ 442.769 │ 293.6      │ 279.8       │ 120.445    │\n",
       "│ 12  │ 1958  │ 110.8       │ 444.546 │ 468.1      │ 263.7       │ 121.95     │\n",
       "│ 13  │ 1959  │ 112.6       │ 482.704 │ 381.3      │ 255.2       │ 123.366    │\n",
       "│ 14  │ 1960  │ 114.2       │ 502.601 │ 393.1      │ 251.4       │ 125.368    │\n",
       "│ 15  │ 1961  │ 115.7       │ 518.173 │ 480.6      │ 257.2       │ 127.852    │\n",
       "│ 16  │ 1962  │ 116.9       │ 554.894 │ 400.7      │ 282.7       │ 130.081    │"
      ]
     },
     "execution_count": 2,
     "metadata": {},
     "output_type": "execute_result"
    }
   ],
   "source": [
    "data = RDatasets.dataset(\"datasets\", \"longley\")"
   ]
  },
  {
   "cell_type": "markdown",
   "metadata": {},
   "source": [
    "## 線性迴歸模型"
   ]
  },
  {
   "cell_type": "code",
   "execution_count": 3,
   "metadata": {},
   "outputs": [
    {
     "data": {
      "text/plain": [
       "StatsModels.TableRegressionModel{LinearModel{GLM.LmResp{Array{Float64,1}},GLM.DensePredChol{Float64,LinearAlgebra.Cholesky{Float64,Array{Float64,2}}}},Array{Float64,2}}\n",
       "\n",
       "Employed ~ 1 + GNP\n",
       "\n",
       "Coefficients:\n",
       "──────────────────────────────────────────────────────────────────────────────\n",
       "               Estimate  Std. Error  t value  Pr(>|t|)   Lower 95%   Upper 95%\n",
       "──────────────────────────────────────────────────────────────────────────────\n",
       "(Intercept)  51.8436     0.681372    76.0871    <1e-19  50.3822     53.305\n",
       "GNP           0.0347523  0.00170571  20.3741    <1e-11   0.0310939   0.0384107\n",
       "──────────────────────────────────────────────────────────────────────────────"
      ]
     },
     "execution_count": 3,
     "metadata": {},
     "output_type": "execute_result"
    }
   ],
   "source": [
    "model = GLM.lm(@formula(Employed ~ GNP), data)"
   ]
  },
  {
   "cell_type": "code",
   "execution_count": 4,
   "metadata": {},
   "outputs": [
    {
     "data": {
      "text/plain": [
       "2-element Array{Float64,1}:\n",
       " 51.84358978188421\n",
       "  0.03475229434762888"
      ]
     },
     "execution_count": 4,
     "metadata": {},
     "output_type": "execute_result"
    }
   ],
   "source": [
    "intercept, slope = coef(model)"
   ]
  },
  {
   "cell_type": "markdown",
   "metadata": {},
   "source": [
    "## 預測"
   ]
  },
  {
   "cell_type": "code",
   "execution_count": 5,
   "metadata": {},
   "outputs": [
    {
     "data": {
      "text/html": [
       "<table class=\"data-frame\"><thead><tr><th></th><th>GNP</th></tr><tr><th></th><th>Float64</th></tr></thead><tbody><p>3 rows × 1 columns</p><tr><th>1</th><td>300.0</td></tr><tr><th>2</th><td>400.0</td></tr><tr><th>3</th><td>500.0</td></tr></tbody></table>"
      ],
      "text/latex": [
       "\\begin{tabular}{r|c}\n",
       "\t& GNP\\\\\n",
       "\t\\hline\n",
       "\t& Float64\\\\\n",
       "\t\\hline\n",
       "\t1 & 300.0 \\\\\n",
       "\t2 & 400.0 \\\\\n",
       "\t3 & 500.0 \\\\\n",
       "\\end{tabular}\n"
      ],
      "text/plain": [
       "3×1 DataFrame\n",
       "│ Row │ GNP     │\n",
       "│     │ \u001b[90mFloat64\u001b[39m │\n",
       "├─────┼─────────┤\n",
       "│ 1   │ 300.0   │\n",
       "│ 2   │ 400.0   │\n",
       "│ 3   │ 500.0   │"
      ]
     },
     "execution_count": 5,
     "metadata": {},
     "output_type": "execute_result"
    }
   ],
   "source": [
    "new_X = DataFrame(GNP=[300., 400., 500.])"
   ]
  },
  {
   "cell_type": "code",
   "execution_count": 6,
   "metadata": {},
   "outputs": [
    {
     "data": {
      "text/plain": [
       "3-element Array{Union{Missing, Float64},1}:\n",
       " 62.269278086172875\n",
       " 65.74450752093577\n",
       " 69.21973695569865"
      ]
     },
     "execution_count": 6,
     "metadata": {},
     "output_type": "execute_result"
    }
   ],
   "source": [
    "predict(model, new_X)"
   ]
  },
  {
   "cell_type": "markdown",
   "metadata": {},
   "source": [
    "## 模型評估"
   ]
  },
  {
   "cell_type": "code",
   "execution_count": 7,
   "metadata": {},
   "outputs": [
    {
     "data": {
      "text/plain": [
       "0.9673737718541232"
      ]
     },
     "execution_count": 7,
     "metadata": {},
     "output_type": "execute_result"
    }
   ],
   "source": [
    "GLM.r2(model)"
   ]
  },
  {
   "cell_type": "code",
   "execution_count": 8,
   "metadata": {},
   "outputs": [
    {
     "data": {
      "text/plain": [
       "0.9650433269865606"
      ]
     },
     "execution_count": 8,
     "metadata": {},
     "output_type": "execute_result"
    }
   ],
   "source": [
    "GLM.adjr2(model)"
   ]
  },
  {
   "cell_type": "markdown",
   "metadata": {},
   "source": [
    "## 多元線性迴歸模型"
   ]
  },
  {
   "cell_type": "markdown",
   "metadata": {},
   "source": [
    "## 載入資料"
   ]
  },
  {
   "cell_type": "code",
   "execution_count": 9,
   "metadata": {},
   "outputs": [
    {
     "data": {
      "text/html": [
       "<table class=\"data-frame\"><thead><tr><th></th><th>Model</th><th>MPG</th><th>Cyl</th><th>Disp</th><th>HP</th><th>DRat</th><th>WT</th><th>QSec</th><th>VS</th></tr><tr><th></th><th>String</th><th>Float64</th><th>Int64</th><th>Float64</th><th>Int64</th><th>Float64</th><th>Float64</th><th>Float64</th><th>Int64</th></tr></thead><tbody><p>6 rows × 12 columns (omitted printing of 3 columns)</p><tr><th>1</th><td>Mazda RX4</td><td>21.0</td><td>6</td><td>160.0</td><td>110</td><td>3.9</td><td>2.62</td><td>16.46</td><td>0</td></tr><tr><th>2</th><td>Mazda RX4 Wag</td><td>21.0</td><td>6</td><td>160.0</td><td>110</td><td>3.9</td><td>2.875</td><td>17.02</td><td>0</td></tr><tr><th>3</th><td>Datsun 710</td><td>22.8</td><td>4</td><td>108.0</td><td>93</td><td>3.85</td><td>2.32</td><td>18.61</td><td>1</td></tr><tr><th>4</th><td>Hornet 4 Drive</td><td>21.4</td><td>6</td><td>258.0</td><td>110</td><td>3.08</td><td>3.215</td><td>19.44</td><td>1</td></tr><tr><th>5</th><td>Hornet Sportabout</td><td>18.7</td><td>8</td><td>360.0</td><td>175</td><td>3.15</td><td>3.44</td><td>17.02</td><td>0</td></tr><tr><th>6</th><td>Valiant</td><td>18.1</td><td>6</td><td>225.0</td><td>105</td><td>2.76</td><td>3.46</td><td>20.22</td><td>1</td></tr></tbody></table>"
      ],
      "text/latex": [
       "\\begin{tabular}{r|cccccccccc}\n",
       "\t& Model & MPG & Cyl & Disp & HP & DRat & WT & QSec & VS & \\\\\n",
       "\t\\hline\n",
       "\t& String & Float64 & Int64 & Float64 & Int64 & Float64 & Float64 & Float64 & Int64 & \\\\\n",
       "\t\\hline\n",
       "\t1 & Mazda RX4 & 21.0 & 6 & 160.0 & 110 & 3.9 & 2.62 & 16.46 & 0 & $\\dots$ \\\\\n",
       "\t2 & Mazda RX4 Wag & 21.0 & 6 & 160.0 & 110 & 3.9 & 2.875 & 17.02 & 0 & $\\dots$ \\\\\n",
       "\t3 & Datsun 710 & 22.8 & 4 & 108.0 & 93 & 3.85 & 2.32 & 18.61 & 1 & $\\dots$ \\\\\n",
       "\t4 & Hornet 4 Drive & 21.4 & 6 & 258.0 & 110 & 3.08 & 3.215 & 19.44 & 1 & $\\dots$ \\\\\n",
       "\t5 & Hornet Sportabout & 18.7 & 8 & 360.0 & 175 & 3.15 & 3.44 & 17.02 & 0 & $\\dots$ \\\\\n",
       "\t6 & Valiant & 18.1 & 6 & 225.0 & 105 & 2.76 & 3.46 & 20.22 & 1 & $\\dots$ \\\\\n",
       "\\end{tabular}\n"
      ],
      "text/plain": [
       "6×12 DataFrame. Omitted printing of 6 columns\n",
       "│ Row │ Model             │ MPG     │ Cyl   │ Disp    │ HP    │ DRat    │\n",
       "│     │ \u001b[90mString\u001b[39m            │ \u001b[90mFloat64\u001b[39m │ \u001b[90mInt64\u001b[39m │ \u001b[90mFloat64\u001b[39m │ \u001b[90mInt64\u001b[39m │ \u001b[90mFloat64\u001b[39m │\n",
       "├─────┼───────────────────┼─────────┼───────┼─────────┼───────┼─────────┤\n",
       "│ 1   │ Mazda RX4         │ 21.0    │ 6     │ 160.0   │ 110   │ 3.9     │\n",
       "│ 2   │ Mazda RX4 Wag     │ 21.0    │ 6     │ 160.0   │ 110   │ 3.9     │\n",
       "│ 3   │ Datsun 710        │ 22.8    │ 4     │ 108.0   │ 93    │ 3.85    │\n",
       "│ 4   │ Hornet 4 Drive    │ 21.4    │ 6     │ 258.0   │ 110   │ 3.08    │\n",
       "│ 5   │ Hornet Sportabout │ 18.7    │ 8     │ 360.0   │ 175   │ 3.15    │\n",
       "│ 6   │ Valiant           │ 18.1    │ 6     │ 225.0   │ 105   │ 2.76    │"
      ]
     },
     "execution_count": 9,
     "metadata": {},
     "output_type": "execute_result"
    }
   ],
   "source": [
    "data = RDatasets.dataset(\"datasets\", \"mtcars\")\n",
    "first(data, 6)"
   ]
  },
  {
   "cell_type": "markdown",
   "metadata": {},
   "source": [
    "## 切分訓練資料及測試資料"
   ]
  },
  {
   "cell_type": "code",
   "execution_count": 10,
   "metadata": {},
   "outputs": [],
   "source": [
    "indecies = MLDataUtils.shuffleobs(collect(1:nrow(data)))\n",
    "train_ind, test_ind = MLDataUtils.splitobs(indecies, at = 0.8);"
   ]
  },
  {
   "cell_type": "code",
   "execution_count": 11,
   "metadata": {},
   "outputs": [
    {
     "data": {
      "text/html": [
       "<table class=\"data-frame\"><thead><tr><th></th><th>Model</th><th>MPG</th><th>Cyl</th><th>Disp</th><th>HP</th><th>DRat</th><th>WT</th><th>QSec</th><th>VS</th></tr><tr><th></th><th>String</th><th>Float64</th><th>Int64</th><th>Float64</th><th>Int64</th><th>Float64</th><th>Float64</th><th>Float64</th><th>Int64</th></tr></thead><tbody><p>6 rows × 12 columns (omitted printing of 3 columns)</p><tr><th>1</th><td>Fiat 128</td><td>32.4</td><td>4</td><td>78.7</td><td>66</td><td>4.08</td><td>2.2</td><td>19.47</td><td>1</td></tr><tr><th>2</th><td>Merc 240D</td><td>24.4</td><td>4</td><td>146.7</td><td>62</td><td>3.69</td><td>3.19</td><td>20.0</td><td>1</td></tr><tr><th>3</th><td>AMC Javelin</td><td>15.2</td><td>8</td><td>304.0</td><td>150</td><td>3.15</td><td>3.435</td><td>17.3</td><td>0</td></tr><tr><th>4</th><td>Maserati Bora</td><td>15.0</td><td>8</td><td>301.0</td><td>335</td><td>3.54</td><td>3.57</td><td>14.6</td><td>0</td></tr><tr><th>5</th><td>Hornet Sportabout</td><td>18.7</td><td>8</td><td>360.0</td><td>175</td><td>3.15</td><td>3.44</td><td>17.02</td><td>0</td></tr><tr><th>6</th><td>Merc 280</td><td>19.2</td><td>6</td><td>167.6</td><td>123</td><td>3.92</td><td>3.44</td><td>18.3</td><td>1</td></tr></tbody></table>"
      ],
      "text/latex": [
       "\\begin{tabular}{r|cccccccccc}\n",
       "\t& Model & MPG & Cyl & Disp & HP & DRat & WT & QSec & VS & \\\\\n",
       "\t\\hline\n",
       "\t& String & Float64 & Int64 & Float64 & Int64 & Float64 & Float64 & Float64 & Int64 & \\\\\n",
       "\t\\hline\n",
       "\t1 & Fiat 128 & 32.4 & 4 & 78.7 & 66 & 4.08 & 2.2 & 19.47 & 1 & $\\dots$ \\\\\n",
       "\t2 & Merc 240D & 24.4 & 4 & 146.7 & 62 & 3.69 & 3.19 & 20.0 & 1 & $\\dots$ \\\\\n",
       "\t3 & AMC Javelin & 15.2 & 8 & 304.0 & 150 & 3.15 & 3.435 & 17.3 & 0 & $\\dots$ \\\\\n",
       "\t4 & Maserati Bora & 15.0 & 8 & 301.0 & 335 & 3.54 & 3.57 & 14.6 & 0 & $\\dots$ \\\\\n",
       "\t5 & Hornet Sportabout & 18.7 & 8 & 360.0 & 175 & 3.15 & 3.44 & 17.02 & 0 & $\\dots$ \\\\\n",
       "\t6 & Merc 280 & 19.2 & 6 & 167.6 & 123 & 3.92 & 3.44 & 18.3 & 1 & $\\dots$ \\\\\n",
       "\\end{tabular}\n"
      ],
      "text/plain": [
       "6×12 DataFrame. Omitted printing of 6 columns\n",
       "│ Row │ Model             │ MPG     │ Cyl   │ Disp    │ HP    │ DRat    │\n",
       "│     │ \u001b[90mString\u001b[39m            │ \u001b[90mFloat64\u001b[39m │ \u001b[90mInt64\u001b[39m │ \u001b[90mFloat64\u001b[39m │ \u001b[90mInt64\u001b[39m │ \u001b[90mFloat64\u001b[39m │\n",
       "├─────┼───────────────────┼─────────┼───────┼─────────┼───────┼─────────┤\n",
       "│ 1   │ Fiat 128          │ 32.4    │ 4     │ 78.7    │ 66    │ 4.08    │\n",
       "│ 2   │ Merc 240D         │ 24.4    │ 4     │ 146.7   │ 62    │ 3.69    │\n",
       "│ 3   │ AMC Javelin       │ 15.2    │ 8     │ 304.0   │ 150   │ 3.15    │\n",
       "│ 4   │ Maserati Bora     │ 15.0    │ 8     │ 301.0   │ 335   │ 3.54    │\n",
       "│ 5   │ Hornet Sportabout │ 18.7    │ 8     │ 360.0   │ 175   │ 3.15    │\n",
       "│ 6   │ Merc 280          │ 19.2    │ 6     │ 167.6   │ 123   │ 3.92    │"
      ]
     },
     "execution_count": 11,
     "metadata": {},
     "output_type": "execute_result"
    }
   ],
   "source": [
    "train = data[train_ind, :]\n",
    "test = data[test_ind, :]"
   ]
  },
  {
   "cell_type": "markdown",
   "metadata": {},
   "source": [
    "## 線性迴歸模型"
   ]
  },
  {
   "cell_type": "code",
   "execution_count": 12,
   "metadata": {},
   "outputs": [
    {
     "data": {
      "text/plain": [
       "StatsModels.TableRegressionModel{LinearModel{GLM.LmResp{Array{Float64,1}},GLM.DensePredChol{Float64,LinearAlgebra.Cholesky{Float64,Array{Float64,2}}}},Array{Float64,2}}\n",
       "\n",
       "MPG ~ 1 + Cyl + Disp + HP + DRat + WT + QSec + VS + AM + Gear + Carb\n",
       "\n",
       "Coefficients:\n",
       "──────────────────────────────────────────────────────────────────────────────────\n",
       "               Estimate  Std. Error     t value  Pr(>|t|)    Lower 95%   Upper 95%\n",
       "──────────────────────────────────────────────────────────────────────────────────\n",
       "(Intercept)  12.9834     19.8629      0.653652     0.5232  -29.3533     55.3202\n",
       "Cyl           0.0600101   1.1497      0.0521961    0.9591   -2.39053     2.51055\n",
       "Disp          0.0170033   0.0190145   0.894225     0.3853   -0.0235253   0.0575318\n",
       "HP           -0.0269058   0.0273429  -0.984015     0.3407   -0.0851857   0.0313742\n",
       "DRat          1.01124     1.79441     0.563548     0.5814   -2.81347     4.83594\n",
       "WT           -4.3337      2.21195    -1.95922      0.0689   -9.04836     0.380953\n",
       "QSec          0.841691    0.888973    0.946813     0.3587   -1.05311     2.73649\n",
       "VS           -0.570273    2.37608    -0.240006     0.8136   -5.63476     4.49421\n",
       "AM            1.95337     2.73409     0.714449     0.4859   -3.8742      7.78094\n",
       "Gear          0.523414    1.62596     0.32191      0.7520   -2.94224     3.98907\n",
       "Carb         -0.249172    0.917914   -0.271454     0.7897   -2.20566     1.70732\n",
       "──────────────────────────────────────────────────────────────────────────────────"
      ]
     },
     "execution_count": 12,
     "metadata": {},
     "output_type": "execute_result"
    }
   ],
   "source": [
    "ols = GLM.lm(@formula(MPG ~ Cyl + Disp + HP + DRat + WT + QSec + VS + AM + Gear + Carb), train)"
   ]
  },
  {
   "cell_type": "markdown",
   "metadata": {},
   "source": [
    "## 預測"
   ]
  },
  {
   "cell_type": "code",
   "execution_count": 13,
   "metadata": {},
   "outputs": [
    {
     "data": {
      "text/plain": [
       "6-element Array{Union{Missing, Float64},1}:\n",
       " 26.99284497064838\n",
       " 21.815499084841672\n",
       " 18.528914308325657\n",
       " 12.542265786177786\n",
       " 18.551111472011122\n",
       " 17.869575666297624"
      ]
     },
     "execution_count": 13,
     "metadata": {},
     "output_type": "execute_result"
    }
   ],
   "source": [
    "predict(ols, test)"
   ]
  },
  {
   "cell_type": "markdown",
   "metadata": {},
   "source": [
    "## 模型評估"
   ]
  },
  {
   "cell_type": "code",
   "execution_count": 14,
   "metadata": {},
   "outputs": [
    {
     "data": {
      "text/plain": [
       "0.8828958843461885"
      ]
     },
     "execution_count": 14,
     "metadata": {},
     "output_type": "execute_result"
    }
   ],
   "source": [
    "GLM.r²(ols)"
   ]
  },
  {
   "cell_type": "code",
   "execution_count": 15,
   "metadata": {},
   "outputs": [
    {
     "data": {
      "text/plain": [
       "0.8048264739103141"
      ]
     },
     "execution_count": 15,
     "metadata": {},
     "output_type": "execute_result"
    }
   ],
   "source": [
    "GLM.adjr²(ols)"
   ]
  },
  {
   "cell_type": "markdown",
   "metadata": {},
   "source": [
    "## 羅吉斯迴歸模型示範"
   ]
  },
  {
   "cell_type": "markdown",
   "metadata": {},
   "source": [
    "## 載入資料"
   ]
  },
  {
   "cell_type": "code",
   "execution_count": 16,
   "metadata": {},
   "outputs": [
    {
     "data": {
      "text/html": [
       "<table class=\"data-frame\"><thead><tr><th></th><th>Default</th><th>Student</th><th>Balance</th><th>Income</th></tr><tr><th></th><th>Categorical…</th><th>Categorical…</th><th>Float64</th><th>Float64</th></tr></thead><tbody><p>6 rows × 4 columns</p><tr><th>1</th><td>No</td><td>No</td><td>729.526</td><td>44361.6</td></tr><tr><th>2</th><td>No</td><td>Yes</td><td>817.18</td><td>12106.1</td></tr><tr><th>3</th><td>No</td><td>No</td><td>1073.55</td><td>31767.1</td></tr><tr><th>4</th><td>No</td><td>No</td><td>529.251</td><td>35704.5</td></tr><tr><th>5</th><td>No</td><td>No</td><td>785.656</td><td>38463.5</td></tr><tr><th>6</th><td>No</td><td>Yes</td><td>919.589</td><td>7491.56</td></tr></tbody></table>"
      ],
      "text/latex": [
       "\\begin{tabular}{r|cccc}\n",
       "\t& Default & Student & Balance & Income\\\\\n",
       "\t\\hline\n",
       "\t& Categorical… & Categorical… & Float64 & Float64\\\\\n",
       "\t\\hline\n",
       "\t1 & No & No & 729.526 & 44361.6 \\\\\n",
       "\t2 & No & Yes & 817.18 & 12106.1 \\\\\n",
       "\t3 & No & No & 1073.55 & 31767.1 \\\\\n",
       "\t4 & No & No & 529.251 & 35704.5 \\\\\n",
       "\t5 & No & No & 785.656 & 38463.5 \\\\\n",
       "\t6 & No & Yes & 919.589 & 7491.56 \\\\\n",
       "\\end{tabular}\n"
      ],
      "text/plain": [
       "6×4 DataFrame\n",
       "│ Row │ Default      │ Student      │ Balance │ Income  │\n",
       "│     │ \u001b[90mCategorical…\u001b[39m │ \u001b[90mCategorical…\u001b[39m │ \u001b[90mFloat64\u001b[39m │ \u001b[90mFloat64\u001b[39m │\n",
       "├─────┼──────────────┼──────────────┼─────────┼─────────┤\n",
       "│ 1   │ No           │ No           │ 729.526 │ 44361.6 │\n",
       "│ 2   │ No           │ Yes          │ 817.18  │ 12106.1 │\n",
       "│ 3   │ No           │ No           │ 1073.55 │ 31767.1 │\n",
       "│ 4   │ No           │ No           │ 529.251 │ 35704.5 │\n",
       "│ 5   │ No           │ No           │ 785.656 │ 38463.5 │\n",
       "│ 6   │ No           │ Yes          │ 919.589 │ 7491.56 │"
      ]
     },
     "execution_count": 16,
     "metadata": {},
     "output_type": "execute_result"
    }
   ],
   "source": [
    "data = RDatasets.dataset(\"ISLR\", \"Default\")\n",
    "first(data, 6)"
   ]
  },
  {
   "cell_type": "markdown",
   "metadata": {},
   "source": [
    "## 前處理"
   ]
  },
  {
   "cell_type": "code",
   "execution_count": 17,
   "metadata": {},
   "outputs": [
    {
     "data": {
      "text/html": [
       "<table class=\"data-frame\"><thead><tr><th></th><th>Default</th><th>Student</th><th>Balance</th><th>Income</th><th>DefaultNum</th><th>StudentNum</th></tr><tr><th></th><th>Categorical…</th><th>Categorical…</th><th>Float64</th><th>Float64</th><th>Float64</th><th>Float64</th></tr></thead><tbody><p>6 rows × 6 columns</p><tr><th>1</th><td>No</td><td>No</td><td>729.526</td><td>44361.6</td><td>0.0</td><td>0.0</td></tr><tr><th>2</th><td>No</td><td>Yes</td><td>817.18</td><td>12106.1</td><td>0.0</td><td>1.0</td></tr><tr><th>3</th><td>No</td><td>No</td><td>1073.55</td><td>31767.1</td><td>0.0</td><td>0.0</td></tr><tr><th>4</th><td>No</td><td>No</td><td>529.251</td><td>35704.5</td><td>0.0</td><td>0.0</td></tr><tr><th>5</th><td>No</td><td>No</td><td>785.656</td><td>38463.5</td><td>0.0</td><td>0.0</td></tr><tr><th>6</th><td>No</td><td>Yes</td><td>919.589</td><td>7491.56</td><td>0.0</td><td>1.0</td></tr></tbody></table>"
      ],
      "text/latex": [
       "\\begin{tabular}{r|cccccc}\n",
       "\t& Default & Student & Balance & Income & DefaultNum & StudentNum\\\\\n",
       "\t\\hline\n",
       "\t& Categorical… & Categorical… & Float64 & Float64 & Float64 & Float64\\\\\n",
       "\t\\hline\n",
       "\t1 & No & No & 729.526 & 44361.6 & 0.0 & 0.0 \\\\\n",
       "\t2 & No & Yes & 817.18 & 12106.1 & 0.0 & 1.0 \\\\\n",
       "\t3 & No & No & 1073.55 & 31767.1 & 0.0 & 0.0 \\\\\n",
       "\t4 & No & No & 529.251 & 35704.5 & 0.0 & 0.0 \\\\\n",
       "\t5 & No & No & 785.656 & 38463.5 & 0.0 & 0.0 \\\\\n",
       "\t6 & No & Yes & 919.589 & 7491.56 & 0.0 & 1.0 \\\\\n",
       "\\end{tabular}\n"
      ],
      "text/plain": [
       "6×6 DataFrame. Omitted printing of 1 columns\n",
       "│ Row │ Default      │ Student      │ Balance │ Income  │ DefaultNum │\n",
       "│     │ \u001b[90mCategorical…\u001b[39m │ \u001b[90mCategorical…\u001b[39m │ \u001b[90mFloat64\u001b[39m │ \u001b[90mFloat64\u001b[39m │ \u001b[90mFloat64\u001b[39m    │\n",
       "├─────┼──────────────┼──────────────┼─────────┼─────────┼────────────┤\n",
       "│ 1   │ No           │ No           │ 729.526 │ 44361.6 │ 0.0        │\n",
       "│ 2   │ No           │ Yes          │ 817.18  │ 12106.1 │ 0.0        │\n",
       "│ 3   │ No           │ No           │ 1073.55 │ 31767.1 │ 0.0        │\n",
       "│ 4   │ No           │ No           │ 529.251 │ 35704.5 │ 0.0        │\n",
       "│ 5   │ No           │ No           │ 785.656 │ 38463.5 │ 0.0        │\n",
       "│ 6   │ No           │ Yes          │ 919.589 │ 7491.56 │ 0.0        │"
      ]
     },
     "execution_count": 17,
     "metadata": {},
     "output_type": "execute_result"
    }
   ],
   "source": [
    "isyes(x) = x == \"Yes\" ? 1.0 : 0.0\n",
    "\n",
    "data[!, :DefaultNum] = isyes.(data[!, :Default])\n",
    "data[!, :StudentNum] = isyes.(data[!, :Student])\n",
    "first(data, 6)"
   ]
  },
  {
   "cell_type": "markdown",
   "metadata": {},
   "source": [
    "## 切分訓練資料及測試資料"
   ]
  },
  {
   "cell_type": "code",
   "execution_count": 18,
   "metadata": {},
   "outputs": [],
   "source": [
    "indecies = MLDataUtils.shuffleobs(collect(1:nrow(data)))\n",
    "train_ind, test_ind = MLDataUtils.splitobs(indecies, at=0.8);"
   ]
  },
  {
   "cell_type": "code",
   "execution_count": 19,
   "metadata": {},
   "outputs": [
    {
     "data": {
      "text/html": [
       "<table class=\"data-frame\"><thead><tr><th></th><th>Default</th><th>Student</th><th>Balance</th><th>Income</th><th>DefaultNum</th><th>StudentNum</th></tr><tr><th></th><th>Categorical…</th><th>Categorical…</th><th>Float64</th><th>Float64</th><th>Float64</th><th>Float64</th></tr></thead><tbody><p>2,000 rows × 6 columns</p><tr><th>1</th><td>No</td><td>No</td><td>955.091</td><td>52224.5</td><td>0.0</td><td>0.0</td></tr><tr><th>2</th><td>No</td><td>Yes</td><td>1113.75</td><td>17810.7</td><td>0.0</td><td>1.0</td></tr><tr><th>3</th><td>No</td><td>No</td><td>1175.39</td><td>35339.6</td><td>0.0</td><td>0.0</td></tr><tr><th>4</th><td>No</td><td>No</td><td>811.242</td><td>26448.3</td><td>0.0</td><td>0.0</td></tr><tr><th>5</th><td>No</td><td>Yes</td><td>1189.46</td><td>17287.6</td><td>0.0</td><td>1.0</td></tr><tr><th>6</th><td>No</td><td>No</td><td>245.506</td><td>31307.2</td><td>0.0</td><td>0.0</td></tr><tr><th>7</th><td>No</td><td>No</td><td>774.073</td><td>46082.0</td><td>0.0</td><td>0.0</td></tr><tr><th>8</th><td>No</td><td>No</td><td>558.321</td><td>38014.8</td><td>0.0</td><td>0.0</td></tr><tr><th>9</th><td>No</td><td>No</td><td>1067.14</td><td>53995.7</td><td>0.0</td><td>0.0</td></tr><tr><th>10</th><td>No</td><td>Yes</td><td>1961.73</td><td>17864.1</td><td>0.0</td><td>1.0</td></tr><tr><th>11</th><td>No</td><td>No</td><td>979.855</td><td>40374.1</td><td>0.0</td><td>0.0</td></tr><tr><th>12</th><td>No</td><td>No</td><td>210.781</td><td>46326.8</td><td>0.0</td><td>0.0</td></tr><tr><th>13</th><td>No</td><td>No</td><td>650.046</td><td>46137.9</td><td>0.0</td><td>0.0</td></tr><tr><th>14</th><td>No</td><td>No</td><td>725.701</td><td>49337.4</td><td>0.0</td><td>0.0</td></tr><tr><th>15</th><td>Yes</td><td>No</td><td>1644.7</td><td>61474.9</td><td>1.0</td><td>0.0</td></tr><tr><th>16</th><td>No</td><td>No</td><td>761.064</td><td>61580.0</td><td>0.0</td><td>0.0</td></tr><tr><th>17</th><td>No</td><td>No</td><td>871.987</td><td>45496.9</td><td>0.0</td><td>0.0</td></tr><tr><th>18</th><td>No</td><td>Yes</td><td>1575.24</td><td>24469.5</td><td>0.0</td><td>1.0</td></tr><tr><th>19</th><td>No</td><td>No</td><td>391.558</td><td>45822.5</td><td>0.0</td><td>0.0</td></tr><tr><th>20</th><td>No</td><td>Yes</td><td>1742.89</td><td>20344.4</td><td>0.0</td><td>1.0</td></tr><tr><th>21</th><td>No</td><td>Yes</td><td>1006.99</td><td>17834.1</td><td>0.0</td><td>1.0</td></tr><tr><th>22</th><td>No</td><td>Yes</td><td>1400.7</td><td>23083.3</td><td>0.0</td><td>1.0</td></tr><tr><th>23</th><td>No</td><td>No</td><td>1054.12</td><td>41781.7</td><td>0.0</td><td>0.0</td></tr><tr><th>24</th><td>No</td><td>Yes</td><td>1178.21</td><td>12077.0</td><td>0.0</td><td>1.0</td></tr><tr><th>25</th><td>No</td><td>No</td><td>136.422</td><td>42719.9</td><td>0.0</td><td>0.0</td></tr><tr><th>26</th><td>Yes</td><td>No</td><td>1655.78</td><td>25639.8</td><td>1.0</td><td>0.0</td></tr><tr><th>27</th><td>No</td><td>No</td><td>698.674</td><td>29580.1</td><td>0.0</td><td>0.0</td></tr><tr><th>28</th><td>No</td><td>No</td><td>550.533</td><td>27223.9</td><td>0.0</td><td>0.0</td></tr><tr><th>29</th><td>No</td><td>No</td><td>731.309</td><td>33126.8</td><td>0.0</td><td>0.0</td></tr><tr><th>30</th><td>No</td><td>Yes</td><td>1328.67</td><td>13389.4</td><td>0.0</td><td>1.0</td></tr><tr><th>&vellip;</th><td>&vellip;</td><td>&vellip;</td><td>&vellip;</td><td>&vellip;</td><td>&vellip;</td><td>&vellip;</td></tr></tbody></table>"
      ],
      "text/latex": [
       "\\begin{tabular}{r|cccccc}\n",
       "\t& Default & Student & Balance & Income & DefaultNum & StudentNum\\\\\n",
       "\t\\hline\n",
       "\t& Categorical… & Categorical… & Float64 & Float64 & Float64 & Float64\\\\\n",
       "\t\\hline\n",
       "\t1 & No & No & 955.091 & 52224.5 & 0.0 & 0.0 \\\\\n",
       "\t2 & No & Yes & 1113.75 & 17810.7 & 0.0 & 1.0 \\\\\n",
       "\t3 & No & No & 1175.39 & 35339.6 & 0.0 & 0.0 \\\\\n",
       "\t4 & No & No & 811.242 & 26448.3 & 0.0 & 0.0 \\\\\n",
       "\t5 & No & Yes & 1189.46 & 17287.6 & 0.0 & 1.0 \\\\\n",
       "\t6 & No & No & 245.506 & 31307.2 & 0.0 & 0.0 \\\\\n",
       "\t7 & No & No & 774.073 & 46082.0 & 0.0 & 0.0 \\\\\n",
       "\t8 & No & No & 558.321 & 38014.8 & 0.0 & 0.0 \\\\\n",
       "\t9 & No & No & 1067.14 & 53995.7 & 0.0 & 0.0 \\\\\n",
       "\t10 & No & Yes & 1961.73 & 17864.1 & 0.0 & 1.0 \\\\\n",
       "\t11 & No & No & 979.855 & 40374.1 & 0.0 & 0.0 \\\\\n",
       "\t12 & No & No & 210.781 & 46326.8 & 0.0 & 0.0 \\\\\n",
       "\t13 & No & No & 650.046 & 46137.9 & 0.0 & 0.0 \\\\\n",
       "\t14 & No & No & 725.701 & 49337.4 & 0.0 & 0.0 \\\\\n",
       "\t15 & Yes & No & 1644.7 & 61474.9 & 1.0 & 0.0 \\\\\n",
       "\t16 & No & No & 761.064 & 61580.0 & 0.0 & 0.0 \\\\\n",
       "\t17 & No & No & 871.987 & 45496.9 & 0.0 & 0.0 \\\\\n",
       "\t18 & No & Yes & 1575.24 & 24469.5 & 0.0 & 1.0 \\\\\n",
       "\t19 & No & No & 391.558 & 45822.5 & 0.0 & 0.0 \\\\\n",
       "\t20 & No & Yes & 1742.89 & 20344.4 & 0.0 & 1.0 \\\\\n",
       "\t21 & No & Yes & 1006.99 & 17834.1 & 0.0 & 1.0 \\\\\n",
       "\t22 & No & Yes & 1400.7 & 23083.3 & 0.0 & 1.0 \\\\\n",
       "\t23 & No & No & 1054.12 & 41781.7 & 0.0 & 0.0 \\\\\n",
       "\t24 & No & Yes & 1178.21 & 12077.0 & 0.0 & 1.0 \\\\\n",
       "\t25 & No & No & 136.422 & 42719.9 & 0.0 & 0.0 \\\\\n",
       "\t26 & Yes & No & 1655.78 & 25639.8 & 1.0 & 0.0 \\\\\n",
       "\t27 & No & No & 698.674 & 29580.1 & 0.0 & 0.0 \\\\\n",
       "\t28 & No & No & 550.533 & 27223.9 & 0.0 & 0.0 \\\\\n",
       "\t29 & No & No & 731.309 & 33126.8 & 0.0 & 0.0 \\\\\n",
       "\t30 & No & Yes & 1328.67 & 13389.4 & 0.0 & 1.0 \\\\\n",
       "\t$\\dots$ & $\\dots$ & $\\dots$ & $\\dots$ & $\\dots$ & $\\dots$ & $\\dots$ \\\\\n",
       "\\end{tabular}\n"
      ],
      "text/plain": [
       "2000×6 DataFrame. Omitted printing of 1 columns\n",
       "│ Row  │ Default      │ Student      │ Balance │ Income  │ DefaultNum │\n",
       "│      │ \u001b[90mCategorical…\u001b[39m │ \u001b[90mCategorical…\u001b[39m │ \u001b[90mFloat64\u001b[39m │ \u001b[90mFloat64\u001b[39m │ \u001b[90mFloat64\u001b[39m    │\n",
       "├──────┼──────────────┼──────────────┼─────────┼─────────┼────────────┤\n",
       "│ 1    │ No           │ No           │ 955.091 │ 52224.5 │ 0.0        │\n",
       "│ 2    │ No           │ Yes          │ 1113.75 │ 17810.7 │ 0.0        │\n",
       "│ 3    │ No           │ No           │ 1175.39 │ 35339.6 │ 0.0        │\n",
       "│ 4    │ No           │ No           │ 811.242 │ 26448.3 │ 0.0        │\n",
       "│ 5    │ No           │ Yes          │ 1189.46 │ 17287.6 │ 0.0        │\n",
       "│ 6    │ No           │ No           │ 245.506 │ 31307.2 │ 0.0        │\n",
       "│ 7    │ No           │ No           │ 774.073 │ 46082.0 │ 0.0        │\n",
       "│ 8    │ No           │ No           │ 558.321 │ 38014.8 │ 0.0        │\n",
       "│ 9    │ No           │ No           │ 1067.14 │ 53995.7 │ 0.0        │\n",
       "│ 10   │ No           │ Yes          │ 1961.73 │ 17864.1 │ 0.0        │\n",
       "⋮\n",
       "│ 1990 │ Yes          │ No           │ 1858.9  │ 35525.2 │ 1.0        │\n",
       "│ 1991 │ No           │ No           │ 1255.92 │ 43929.1 │ 0.0        │\n",
       "│ 1992 │ No           │ No           │ 592.045 │ 39065.0 │ 0.0        │\n",
       "│ 1993 │ No           │ Yes          │ 1098.96 │ 21025.9 │ 0.0        │\n",
       "│ 1994 │ No           │ Yes          │ 1191.09 │ 20895.4 │ 0.0        │\n",
       "│ 1995 │ No           │ No           │ 932.829 │ 48165.2 │ 0.0        │\n",
       "│ 1996 │ No           │ No           │ 831.587 │ 32203.3 │ 0.0        │\n",
       "│ 1997 │ No           │ No           │ 1248.83 │ 39317.9 │ 0.0        │\n",
       "│ 1998 │ No           │ Yes          │ 856.655 │ 15523.1 │ 0.0        │\n",
       "│ 1999 │ No           │ No           │ 868.006 │ 50549.5 │ 0.0        │\n",
       "│ 2000 │ No           │ No           │ 1425.8  │ 34015.8 │ 0.0        │"
      ]
     },
     "execution_count": 19,
     "metadata": {},
     "output_type": "execute_result"
    }
   ],
   "source": [
    "train = data[train_ind, :]\n",
    "test = data[test_ind, :]"
   ]
  },
  {
   "cell_type": "markdown",
   "metadata": {},
   "source": [
    "## 羅吉斯迴歸模型"
   ]
  },
  {
   "cell_type": "code",
   "execution_count": 20,
   "metadata": {},
   "outputs": [
    {
     "data": {
      "text/plain": [
       "StatsModels.TableRegressionModel{GeneralizedLinearModel{GLM.GlmResp{Array{Float64,1},Binomial{Float64},LogitLink},GLM.DensePredChol{Float64,LinearAlgebra.Cholesky{Float64,Array{Float64,2}}}},Array{Float64,2}}\n",
       "\n",
       "DefaultNum ~ 1 + Balance + Income\n",
       "\n",
       "Coefficients:\n",
       "───────────────────────────────────────────────────────────────────────────────────────\n",
       "                 Estimate   Std. Error    z value  Pr(>|z|)     Lower 95%     Upper 95%\n",
       "───────────────────────────────────────────────────────────────────────────────────────\n",
       "(Intercept)  -11.4047      0.48124      -23.6985     <1e-99  -12.3479      -10.4614\n",
       "Balance        0.00563692  0.000253749   22.2145     <1e-99    0.00513958    0.00613426\n",
       "Income         1.67045e-5  5.53929e-6     3.01565    0.0026    5.84773e-6    2.75613e-5\n",
       "───────────────────────────────────────────────────────────────────────────────────────"
      ]
     },
     "execution_count": 20,
     "metadata": {},
     "output_type": "execute_result"
    }
   ],
   "source": [
    "logreg = glm(@formula(DefaultNum ~ Balance + Income), train, Binomial(), LogitLink())"
   ]
  },
  {
   "cell_type": "markdown",
   "metadata": {},
   "source": [
    "## 預測"
   ]
  },
  {
   "cell_type": "code",
   "execution_count": 21,
   "metadata": {},
   "outputs": [
    {
     "data": {
      "text/plain": [
       "2000-element Array{Union{Missing, Float64},1}:\n",
       " 0.005774541451606371\n",
       " 0.007931042944848171\n",
       " 0.014938628897760618\n",
       " 0.0016755312076596072\n",
       " 0.011997796837508018\n",
       " 7.501179953007647e-5\n",
       " 0.0018858418164089939\n",
       " 0.0004891100992680591\n",
       " 0.0111256897252169\n",
       " 0.48796651841162836\n",
       " 0.005448958332071903\n",
       " 7.926465002214911e-5\n",
       " 0.0009390613259794166\n",
       " ⋮\n",
       " 0.007892101969419639\n",
       " 0.4175755816894438\n",
       " 0.026822528543948374\n",
       " 0.0006019181650225936\n",
       " 0.007700744357740693\n",
       " 0.012848971459704898\n",
       " 0.00476442166865858\n",
       " 0.0020679463926504328\n",
       " 0.023932001454832628\n",
       " 0.0018030751336048456\n",
       " 0.0034450216958281043\n",
       " 0.05736131179602987"
      ]
     },
     "execution_count": 21,
     "metadata": {},
     "output_type": "execute_result"
    }
   ],
   "source": [
    "pred = predict(logreg, test)"
   ]
  },
  {
   "cell_type": "markdown",
   "metadata": {},
   "source": [
    "## 模型評估"
   ]
  },
  {
   "cell_type": "code",
   "execution_count": 22,
   "metadata": {},
   "outputs": [
    {
     "data": {
      "text/plain": [
       "accuracy (generic function with 1 method)"
      ]
     },
     "execution_count": 22,
     "metadata": {},
     "output_type": "execute_result"
    }
   ],
   "source": [
    "error(x, y) = ((x > 0.5) ? 1.0 : 0.0) == y\n",
    "accuracy(xs, ys) = mean(error.(xs, ys))"
   ]
  },
  {
   "cell_type": "code",
   "execution_count": 23,
   "metadata": {},
   "outputs": [
    {
     "data": {
      "text/plain": [
       "0.971"
      ]
     },
     "execution_count": 23,
     "metadata": {},
     "output_type": "execute_result"
    }
   ],
   "source": [
    "accuracy(pred, test[!, :DefaultNum])"
   ]
  },
  {
   "cell_type": "code",
   "execution_count": null,
   "metadata": {},
   "outputs": [],
   "source": []
  }
 ],
 "metadata": {
  "kernelspec": {
   "display_name": "Julia 1.4.0",
   "language": "julia",
   "name": "julia-1.4"
  },
  "language_info": {
   "file_extension": ".jl",
   "mimetype": "application/julia",
   "name": "julia",
   "version": "1.4.0"
  }
 },
 "nbformat": 4,
 "nbformat_minor": 4
}
