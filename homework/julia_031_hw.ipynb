{
 "cells": [
  {
   "cell_type": "markdown",
   "metadata": {},
   "source": [
    "# Julia 深度學習：可微分程式設計\n",
    "\n",
    "## 作業 031：對神經網路層微分\n",
    "\n",
    "請自行撰寫一個型別，型別代表神經網路的一層運算，並且對它微分。神經網路層的一般式如下：\n",
    "\n",
    "$$\n",
    "y = \\sigma (Wx + b)\n",
    "$$\n",
    "\n",
    "其中 `W` 為參數矩陣，`b` 為參數向量，`x` 為輸入向量，`y` 為輸出向量。要取得向量的微分值，需要將向量縮減為純量，如下：\n",
    "\n",
    "```\n",
    "gradient(x -> sum(y), 1)\n",
    "```"
   ]
  },
  {
   "cell_type": "code",
   "execution_count": 1,
   "metadata": {},
   "outputs": [],
   "source": [
    "using Zygote"
   ]
  },
  {
   "cell_type": "code",
   "execution_count": 2,
   "metadata": {},
   "outputs": [
    {
     "data": {
      "text/plain": [
       "7-element Array{Float64,1}:\n",
       " 0.29689058247184996\n",
       " 0.6213353796128072\n",
       " 0.24764330424578596\n",
       " 0.6235802787138609\n",
       " 0.911200650848941\n",
       " 0.5510103216652462\n",
       " 0.21584727407780768"
      ]
     },
     "execution_count": 2,
     "metadata": {},
     "output_type": "execute_result"
    }
   ],
   "source": [
    "x = rand(7)"
   ]
  },
  {
   "cell_type": "code",
   "execution_count": 3,
   "metadata": {},
   "outputs": [],
   "source": [
    "struct Linear\n",
    "    W\n",
    "    b\n",
    "end"
   ]
  },
  {
   "cell_type": "code",
   "execution_count": 4,
   "metadata": {},
   "outputs": [],
   "source": [
    "(l::Linear)(x) = l.W * x .+ l.b"
   ]
  },
  {
   "cell_type": "code",
   "execution_count": 5,
   "metadata": {},
   "outputs": [
    {
     "data": {
      "text/plain": [
       "Linear([0.037783445148428685 0.24756396287240356 … 0.4609366610142005 0.8286389044896416; 0.758979972759154 0.4699199396039173 … 0.14874256684873788 0.11208526085224313; 0.6427179013781852 0.6306964350057092 … 0.8167873792209106 0.8460766788561529; 0.2343695387832354 0.9051951263040039 … 0.9224252684894612 0.16802366100646293], [0.14553029861734856, 0.03968287347245392, 0.545276361630959, 0.3609871251805181])"
      ]
     },
     "execution_count": 5,
     "metadata": {},
     "output_type": "execute_result"
    }
   ],
   "source": [
    "model = Linear(rand(4, 7), rand(4))"
   ]
  },
  {
   "cell_type": "code",
   "execution_count": 6,
   "metadata": {},
   "outputs": [
    {
     "data": {
      "text/plain": [
       "(W = [0.29689058247184996 0.6213353796128072 … 0.5510103216652462 0.21584727407780768; 0.29689058247184996 0.6213353796128072 … 0.5510103216652462 0.21584727407780768; 0.29689058247184996 0.6213353796128072 … 0.5510103216652462 0.21584727407780768; 0.29689058247184996 0.6213353796128072 … 0.5510103216652462 0.21584727407780768], b = [1.0, 1.0, 1.0, 1.0])"
      ]
     },
     "execution_count": 6,
     "metadata": {},
     "output_type": "execute_result"
    }
   ],
   "source": [
    "dmodel = gradient(model -> sum(model(x)), model)[1]"
   ]
  }
 ],
 "metadata": {
  "kernelspec": {
   "display_name": "Julia 1.4.0",
   "language": "julia",
   "name": "julia-1.4"
  },
  "language_info": {
   "file_extension": ".jl",
   "mimetype": "application/julia",
   "name": "julia",
   "version": "1.4.0"
  }
 },
 "nbformat": 4,
 "nbformat_minor": 4
}
