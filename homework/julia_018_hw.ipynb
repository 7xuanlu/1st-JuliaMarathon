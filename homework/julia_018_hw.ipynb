{
 "cells": [
  {
   "cell_type": "markdown",
   "metadata": {
    "colab_type": "text",
    "id": "2X-9mXIwlD2v"
   },
   "source": [
    "# DataFrames.jl 介紹 (二): Joins 與 Split-Apply-Combine Strategy\n",
    "\n",
    "## Day 018 作業1：The Split-Apply-Combine Strategy\n",
    "\n",
    "同 Day 017，請載入 2020/4/2 COVID-19 Daily Report 資料集，計算每個國家/地區的累計確診人數，並列出所有資料筆數。"
   ]
  },
  {
   "cell_type": "code",
   "execution_count": 1,
   "metadata": {
    "colab": {},
    "colab_type": "code",
    "id": "jw9JRWRilD2w"
   },
   "outputs": [],
   "source": [
    "using DataFrames, CSV"
   ]
  },
  {
   "cell_type": "code",
   "execution_count": 2,
   "metadata": {
    "colab": {},
    "colab_type": "code",
    "id": "yYc3lmgzlD22",
    "outputId": "7b405ad5-8c9c-4214-b100-40a6f3febe51"
   },
   "outputs": [
    {
     "data": {
      "text/html": [
       "<table class=\"data-frame\"><thead><tr><th></th><th>FIPS</th><th>Admin2</th><th>Province_State</th><th>Country_Region</th><th>Last_Update</th><th>Lat</th></tr><tr><th></th><th>Int64⍰</th><th>String⍰</th><th>String⍰</th><th>String</th><th>String</th><th>Float64⍰</th></tr></thead><tbody><p>2,569 rows × 12 columns (omitted printing of 6 columns)</p><tr><th>1</th><td>45001</td><td>Abbeville</td><td>South Carolina</td><td>US</td><td>2020-04-02 23:25:27</td><td>34.2233</td></tr><tr><th>2</th><td>22001</td><td>Acadia</td><td>Louisiana</td><td>US</td><td>2020-04-02 23:25:27</td><td>30.2951</td></tr><tr><th>3</th><td>51001</td><td>Accomack</td><td>Virginia</td><td>US</td><td>2020-04-02 23:25:27</td><td>37.7671</td></tr><tr><th>4</th><td>16001</td><td>Ada</td><td>Idaho</td><td>US</td><td>2020-04-02 23:25:27</td><td>43.4527</td></tr><tr><th>5</th><td>19001</td><td>Adair</td><td>Iowa</td><td>US</td><td>2020-04-02 23:25:27</td><td>41.3308</td></tr><tr><th>6</th><td>29001</td><td>Adair</td><td>Missouri</td><td>US</td><td>2020-04-02 23:25:27</td><td>40.1906</td></tr><tr><th>7</th><td>40001</td><td>Adair</td><td>Oklahoma</td><td>US</td><td>2020-04-02 23:25:27</td><td>35.8849</td></tr><tr><th>8</th><td>8001</td><td>Adams</td><td>Colorado</td><td>US</td><td>2020-04-02 23:25:27</td><td>39.8743</td></tr><tr><th>9</th><td>16003</td><td>Adams</td><td>Idaho</td><td>US</td><td>2020-04-02 23:25:27</td><td>44.8933</td></tr><tr><th>10</th><td>17001</td><td>Adams</td><td>Illinois</td><td>US</td><td>2020-04-02 23:25:27</td><td>39.9882</td></tr><tr><th>11</th><td>18001</td><td>Adams</td><td>Indiana</td><td>US</td><td>2020-04-02 23:25:27</td><td>40.7458</td></tr><tr><th>12</th><td>28001</td><td>Adams</td><td>Mississippi</td><td>US</td><td>2020-04-02 23:25:27</td><td>31.4767</td></tr><tr><th>13</th><td>31001</td><td>Adams</td><td>Nebraska</td><td>US</td><td>2020-04-02 23:25:27</td><td>40.5245</td></tr><tr><th>14</th><td>42001</td><td>Adams</td><td>Pennsylvania</td><td>US</td><td>2020-04-02 23:25:27</td><td>39.8714</td></tr><tr><th>15</th><td>53001</td><td>Adams</td><td>Washington</td><td>US</td><td>2020-04-02 23:25:27</td><td>46.983</td></tr><tr><th>16</th><td>55001</td><td>Adams</td><td>Wisconsin</td><td>US</td><td>2020-04-02 23:25:27</td><td>43.9697</td></tr><tr><th>17</th><td>50001</td><td>Addison</td><td>Vermont</td><td>US</td><td>2020-04-02 23:25:27</td><td>44.0322</td></tr><tr><th>18</th><td>45003</td><td>Aiken</td><td>South Carolina</td><td>US</td><td>2020-04-02 23:25:27</td><td>33.5434</td></tr><tr><th>19</th><td>12001</td><td>Alachua</td><td>Florida</td><td>US</td><td>2020-04-02 23:25:27</td><td>29.6787</td></tr><tr><th>20</th><td>37001</td><td>Alamance</td><td>North Carolina</td><td>US</td><td>2020-04-02 23:25:27</td><td>36.0435</td></tr><tr><th>21</th><td>6001</td><td>Alameda</td><td>California</td><td>US</td><td>2020-04-02 23:25:27</td><td>37.6463</td></tr><tr><th>22</th><td>8003</td><td>Alamosa</td><td>Colorado</td><td>US</td><td>2020-04-02 23:25:27</td><td>37.5725</td></tr><tr><th>23</th><td>36001</td><td>Albany</td><td>New York</td><td>US</td><td>2020-04-02 23:25:27</td><td>42.6006</td></tr><tr><th>24</th><td>56001</td><td>Albany</td><td>Wyoming</td><td>US</td><td>2020-04-02 23:25:27</td><td>41.655</td></tr><tr><th>25</th><td>51003</td><td>Albemarle</td><td>Virginia</td><td>US</td><td>2020-04-02 23:25:27</td><td>38.0208</td></tr><tr><th>26</th><td>28003</td><td>Alcorn</td><td>Mississippi</td><td>US</td><td>2020-04-02 23:25:27</td><td>34.8808</td></tr><tr><th>27</th><td>37003</td><td>Alexander</td><td>North Carolina</td><td>US</td><td>2020-04-02 23:25:27</td><td>35.9224</td></tr><tr><th>28</th><td>51510</td><td>Alexandria</td><td>Virginia</td><td>US</td><td>2020-04-02 23:25:27</td><td>38.814</td></tr><tr><th>29</th><td>19005</td><td>Allamakee</td><td>Iowa</td><td>US</td><td>2020-04-02 23:25:27</td><td>43.2838</td></tr><tr><th>30</th><td>26005</td><td>Allegan</td><td>Michigan</td><td>US</td><td>2020-04-02 23:25:27</td><td>42.5915</td></tr><tr><th>&vellip;</th><td>&vellip;</td><td>&vellip;</td><td>&vellip;</td><td>&vellip;</td><td>&vellip;</td><td>&vellip;</td></tr></tbody></table>"
      ],
      "text/latex": [
       "\\begin{tabular}{r|ccccccc}\n",
       "\t& FIPS & Admin2 & Province\\_State & Country\\_Region & Last\\_Update & Lat & \\\\\n",
       "\t\\hline\n",
       "\t& Int64⍰ & String⍰ & String⍰ & String & String & Float64⍰ & \\\\\n",
       "\t\\hline\n",
       "\t1 & 45001 & Abbeville & South Carolina & US & 2020-04-02 23:25:27 & 34.2233 & $\\dots$ \\\\\n",
       "\t2 & 22001 & Acadia & Louisiana & US & 2020-04-02 23:25:27 & 30.2951 & $\\dots$ \\\\\n",
       "\t3 & 51001 & Accomack & Virginia & US & 2020-04-02 23:25:27 & 37.7671 & $\\dots$ \\\\\n",
       "\t4 & 16001 & Ada & Idaho & US & 2020-04-02 23:25:27 & 43.4527 & $\\dots$ \\\\\n",
       "\t5 & 19001 & Adair & Iowa & US & 2020-04-02 23:25:27 & 41.3308 & $\\dots$ \\\\\n",
       "\t6 & 29001 & Adair & Missouri & US & 2020-04-02 23:25:27 & 40.1906 & $\\dots$ \\\\\n",
       "\t7 & 40001 & Adair & Oklahoma & US & 2020-04-02 23:25:27 & 35.8849 & $\\dots$ \\\\\n",
       "\t8 & 8001 & Adams & Colorado & US & 2020-04-02 23:25:27 & 39.8743 & $\\dots$ \\\\\n",
       "\t9 & 16003 & Adams & Idaho & US & 2020-04-02 23:25:27 & 44.8933 & $\\dots$ \\\\\n",
       "\t10 & 17001 & Adams & Illinois & US & 2020-04-02 23:25:27 & 39.9882 & $\\dots$ \\\\\n",
       "\t11 & 18001 & Adams & Indiana & US & 2020-04-02 23:25:27 & 40.7458 & $\\dots$ \\\\\n",
       "\t12 & 28001 & Adams & Mississippi & US & 2020-04-02 23:25:27 & 31.4767 & $\\dots$ \\\\\n",
       "\t13 & 31001 & Adams & Nebraska & US & 2020-04-02 23:25:27 & 40.5245 & $\\dots$ \\\\\n",
       "\t14 & 42001 & Adams & Pennsylvania & US & 2020-04-02 23:25:27 & 39.8714 & $\\dots$ \\\\\n",
       "\t15 & 53001 & Adams & Washington & US & 2020-04-02 23:25:27 & 46.983 & $\\dots$ \\\\\n",
       "\t16 & 55001 & Adams & Wisconsin & US & 2020-04-02 23:25:27 & 43.9697 & $\\dots$ \\\\\n",
       "\t17 & 50001 & Addison & Vermont & US & 2020-04-02 23:25:27 & 44.0322 & $\\dots$ \\\\\n",
       "\t18 & 45003 & Aiken & South Carolina & US & 2020-04-02 23:25:27 & 33.5434 & $\\dots$ \\\\\n",
       "\t19 & 12001 & Alachua & Florida & US & 2020-04-02 23:25:27 & 29.6787 & $\\dots$ \\\\\n",
       "\t20 & 37001 & Alamance & North Carolina & US & 2020-04-02 23:25:27 & 36.0435 & $\\dots$ \\\\\n",
       "\t21 & 6001 & Alameda & California & US & 2020-04-02 23:25:27 & 37.6463 & $\\dots$ \\\\\n",
       "\t22 & 8003 & Alamosa & Colorado & US & 2020-04-02 23:25:27 & 37.5725 & $\\dots$ \\\\\n",
       "\t23 & 36001 & Albany & New York & US & 2020-04-02 23:25:27 & 42.6006 & $\\dots$ \\\\\n",
       "\t24 & 56001 & Albany & Wyoming & US & 2020-04-02 23:25:27 & 41.655 & $\\dots$ \\\\\n",
       "\t25 & 51003 & Albemarle & Virginia & US & 2020-04-02 23:25:27 & 38.0208 & $\\dots$ \\\\\n",
       "\t26 & 28003 & Alcorn & Mississippi & US & 2020-04-02 23:25:27 & 34.8808 & $\\dots$ \\\\\n",
       "\t27 & 37003 & Alexander & North Carolina & US & 2020-04-02 23:25:27 & 35.9224 & $\\dots$ \\\\\n",
       "\t28 & 51510 & Alexandria & Virginia & US & 2020-04-02 23:25:27 & 38.814 & $\\dots$ \\\\\n",
       "\t29 & 19005 & Allamakee & Iowa & US & 2020-04-02 23:25:27 & 43.2838 & $\\dots$ \\\\\n",
       "\t30 & 26005 & Allegan & Michigan & US & 2020-04-02 23:25:27 & 42.5915 & $\\dots$ \\\\\n",
       "\t$\\dots$ & $\\dots$ & $\\dots$ & $\\dots$ & $\\dots$ & $\\dots$ & $\\dots$ &  \\\\\n",
       "\\end{tabular}\n"
      ],
      "text/plain": [
       "2569×12 DataFrame. Omitted printing of 8 columns\n",
       "│ Row  │ FIPS    │ Admin2     │ Province_State │ Country_Region       │\n",
       "│      │ \u001b[90mInt64⍰\u001b[39m  │ \u001b[90mString⍰\u001b[39m    │ \u001b[90mString⍰\u001b[39m        │ \u001b[90mString\u001b[39m               │\n",
       "├──────┼─────────┼────────────┼────────────────┼──────────────────────┤\n",
       "│ 1    │ 45001   │ Abbeville  │ South Carolina │ US                   │\n",
       "│ 2    │ 22001   │ Acadia     │ Louisiana      │ US                   │\n",
       "│ 3    │ 51001   │ Accomack   │ Virginia       │ US                   │\n",
       "│ 4    │ 16001   │ Ada        │ Idaho          │ US                   │\n",
       "│ 5    │ 19001   │ Adair      │ Iowa           │ US                   │\n",
       "│ 6    │ 29001   │ Adair      │ Missouri       │ US                   │\n",
       "│ 7    │ 40001   │ Adair      │ Oklahoma       │ US                   │\n",
       "│ 8    │ 8001    │ Adams      │ Colorado       │ US                   │\n",
       "│ 9    │ 16003   │ Adams      │ Idaho          │ US                   │\n",
       "│ 10   │ 17001   │ Adams      │ Illinois       │ US                   │\n",
       "⋮\n",
       "│ 2559 │ \u001b[90mmissing\u001b[39m │ \u001b[90mmissing\u001b[39m    │ \u001b[90mmissing\u001b[39m        │ Ukraine              │\n",
       "│ 2560 │ \u001b[90mmissing\u001b[39m │ \u001b[90mmissing\u001b[39m    │ \u001b[90mmissing\u001b[39m        │ United Arab Emirates │\n",
       "│ 2561 │ \u001b[90mmissing\u001b[39m │ \u001b[90mmissing\u001b[39m    │ \u001b[90mmissing\u001b[39m        │ United Kingdom       │\n",
       "│ 2562 │ \u001b[90mmissing\u001b[39m │ \u001b[90mmissing\u001b[39m    │ \u001b[90mmissing\u001b[39m        │ Uruguay              │\n",
       "│ 2563 │ \u001b[90mmissing\u001b[39m │ \u001b[90mmissing\u001b[39m    │ \u001b[90mmissing\u001b[39m        │ Uzbekistan           │\n",
       "│ 2564 │ \u001b[90mmissing\u001b[39m │ \u001b[90mmissing\u001b[39m    │ \u001b[90mmissing\u001b[39m        │ Venezuela            │\n",
       "│ 2565 │ \u001b[90mmissing\u001b[39m │ \u001b[90mmissing\u001b[39m    │ \u001b[90mmissing\u001b[39m        │ Vietnam              │\n",
       "│ 2566 │ \u001b[90mmissing\u001b[39m │ \u001b[90mmissing\u001b[39m    │ \u001b[90mmissing\u001b[39m        │ West Bank and Gaza   │\n",
       "│ 2567 │ \u001b[90mmissing\u001b[39m │ \u001b[90mmissing\u001b[39m    │ \u001b[90mmissing\u001b[39m        │ Zambia               │\n",
       "│ 2568 │ \u001b[90mmissing\u001b[39m │ \u001b[90mmissing\u001b[39m    │ \u001b[90mmissing\u001b[39m        │ Zimbabwe             │\n",
       "│ 2569 │ \u001b[90mmissing\u001b[39m │ unassigned │ Wyoming        │ US                   │"
      ]
     },
     "execution_count": 2,
     "metadata": {},
     "output_type": "execute_result"
    }
   ],
   "source": [
    "df = CSV.read(\"../data/04-02-2020.csv\")"
   ]
  },
  {
   "cell_type": "markdown",
   "metadata": {
    "colab_type": "text",
    "id": "Pw8WALcSlD28"
   },
   "source": [
    "計算計算每個國家/地區的累計確診人數\n",
    "\n",
    "【提示】可使用 groupby 相關的函式"
   ]
  },
  {
   "cell_type": "code",
   "execution_count": 3,
   "metadata": {},
   "outputs": [
    {
     "data": {
      "text/html": [
       "<table class=\"data-frame\"><thead><tr><th></th><th>variable</th><th>mean</th><th>min</th><th>median</th><th>max</th></tr><tr><th></th><th>Symbol</th><th>Union…</th><th>Any</th><th>Union…</th><th>Any</th></tr></thead><tbody><p>12 rows × 8 columns (omitted printing of 3 columns)</p><tr><th>1</th><td>FIPS</td><td>30958.4</td><td>66</td><td>29093.0</td><td>99999</td></tr><tr><th>2</th><td>Admin2</td><td></td><td>Abbeville</td><td></td><td>unassigned</td></tr><tr><th>3</th><td>Province_State</td><td></td><td>Alabama</td><td></td><td>Zhejiang</td></tr><tr><th>4</th><td>Country_Region</td><td></td><td>Afghanistan</td><td></td><td>Zimbabwe</td></tr><tr><th>5</th><td>Last_Update</td><td></td><td>2020-02-23 11:19:02</td><td></td><td>2020-04-02 23:32:01</td></tr><tr><th>6</th><td>Lat</td><td>36.2992</td><td>-42.8821</td><td>37.7171</td><td>71.7069</td></tr><tr><th>7</th><td>Long_</td><td>-78.9577</td><td>-159.597</td><td>-86.5104</td><td>178.065</td></tr><tr><th>8</th><td>Confirmed</td><td>394.378</td><td>0</td><td>7.0</td><td>115242</td></tr><tr><th>9</th><td>Deaths</td><td>20.624</td><td>0</td><td>0.0</td><td>13915</td></tr><tr><th>10</th><td>Recovered</td><td>81.8462</td><td>0</td><td>0.0</td><td>63471</td></tr><tr><th>11</th><td>Active</td><td>199.29</td><td>0</td><td>0.0</td><td>83049</td></tr><tr><th>12</th><td>Combined_Key</td><td></td><td>,,Belize</td><td></td><td>unassigned, Wyoming, US</td></tr></tbody></table>"
      ],
      "text/latex": [
       "\\begin{tabular}{r|cccccc}\n",
       "\t& variable & mean & min & median & max & \\\\\n",
       "\t\\hline\n",
       "\t& Symbol & Union… & Any & Union… & Any & \\\\\n",
       "\t\\hline\n",
       "\t1 & FIPS & 30958.4 & 66 & 29093.0 & 99999 & $\\dots$ \\\\\n",
       "\t2 & Admin2 &  & Abbeville &  & unassigned & $\\dots$ \\\\\n",
       "\t3 & Province\\_State &  & Alabama &  & Zhejiang & $\\dots$ \\\\\n",
       "\t4 & Country\\_Region &  & Afghanistan &  & Zimbabwe & $\\dots$ \\\\\n",
       "\t5 & Last\\_Update &  & 2020-02-23 11:19:02 &  & 2020-04-02 23:32:01 & $\\dots$ \\\\\n",
       "\t6 & Lat & 36.2992 & -42.8821 & 37.7171 & 71.7069 & $\\dots$ \\\\\n",
       "\t7 & Long\\_ & -78.9577 & -159.597 & -86.5104 & 178.065 & $\\dots$ \\\\\n",
       "\t8 & Confirmed & 394.378 & 0 & 7.0 & 115242 & $\\dots$ \\\\\n",
       "\t9 & Deaths & 20.624 & 0 & 0.0 & 13915 & $\\dots$ \\\\\n",
       "\t10 & Recovered & 81.8462 & 0 & 0.0 & 63471 & $\\dots$ \\\\\n",
       "\t11 & Active & 199.29 & 0 & 0.0 & 83049 & $\\dots$ \\\\\n",
       "\t12 & Combined\\_Key &  & ,,Belize &  & unassigned, Wyoming, US & $\\dots$ \\\\\n",
       "\\end{tabular}\n"
      ],
      "text/plain": [
       "12×8 DataFrame. Omitted printing of 4 columns\n",
       "│ Row │ variable       │ mean     │ min                 │ median   │\n",
       "│     │ \u001b[90mSymbol\u001b[39m         │ \u001b[90mUnion…\u001b[39m   │ \u001b[90mAny\u001b[39m                 │ \u001b[90mUnion…\u001b[39m   │\n",
       "├─────┼────────────────┼──────────┼─────────────────────┼──────────┤\n",
       "│ 1   │ FIPS           │ 30958.4  │ 66                  │ 29093.0  │\n",
       "│ 2   │ Admin2         │          │ Abbeville           │          │\n",
       "│ 3   │ Province_State │          │ Alabama             │          │\n",
       "│ 4   │ Country_Region │          │ Afghanistan         │          │\n",
       "│ 5   │ Last_Update    │          │ 2020-02-23 11:19:02 │          │\n",
       "│ 6   │ Lat            │ 36.2992  │ -42.8821            │ 37.7171  │\n",
       "│ 7   │ Long_          │ -78.9577 │ -159.597            │ -86.5104 │\n",
       "│ 8   │ Confirmed      │ 394.378  │ 0                   │ 7.0      │\n",
       "│ 9   │ Deaths         │ 20.624   │ 0                   │ 0.0      │\n",
       "│ 10  │ Recovered      │ 81.8462  │ 0                   │ 0.0      │\n",
       "│ 11  │ Active         │ 199.29   │ 0                   │ 0.0      │\n",
       "│ 12  │ Combined_Key   │          │ ,,Belize            │          │"
      ]
     },
     "execution_count": 3,
     "metadata": {},
     "output_type": "execute_result"
    }
   ],
   "source": [
    "describe(df)"
   ]
  },
  {
   "cell_type": "code",
   "execution_count": 4,
   "metadata": {
    "colab": {},
    "colab_type": "code",
    "id": "habhL6illD3B"
   },
   "outputs": [
    {
     "data": {
      "text/html": [
       "<table class=\"data-frame\"><thead><tr><th></th><th>Country_Region</th><th>Confirmed_sum</th></tr><tr><th></th><th>String</th><th>Int64</th></tr></thead><tbody><p>181 rows × 2 columns</p><tr><th>1</th><td>US</td><td>243453</td></tr><tr><th>2</th><td>Italy</td><td>115242</td></tr><tr><th>3</th><td>Spain</td><td>112065</td></tr><tr><th>4</th><td>Germany</td><td>84794</td></tr><tr><th>5</th><td>China</td><td>82432</td></tr><tr><th>6</th><td>France</td><td>59929</td></tr><tr><th>7</th><td>Iran</td><td>50468</td></tr><tr><th>8</th><td>United Kingdom</td><td>34173</td></tr><tr><th>9</th><td>Switzerland</td><td>18827</td></tr><tr><th>10</th><td>Turkey</td><td>18135</td></tr><tr><th>11</th><td>Belgium</td><td>15348</td></tr><tr><th>12</th><td>Netherlands</td><td>14788</td></tr><tr><th>13</th><td>Canada</td><td>11284</td></tr><tr><th>14</th><td>Austria</td><td>11129</td></tr><tr><th>15</th><td>Korea, South</td><td>9976</td></tr><tr><th>16</th><td>Portugal</td><td>9034</td></tr><tr><th>17</th><td>Brazil</td><td>8044</td></tr><tr><th>18</th><td>Israel</td><td>6857</td></tr><tr><th>19</th><td>Sweden</td><td>5568</td></tr><tr><th>20</th><td>Norway</td><td>5147</td></tr><tr><th>21</th><td>Australia</td><td>5116</td></tr><tr><th>22</th><td>Czechia</td><td>3858</td></tr><tr><th>23</th><td>Ireland</td><td>3849</td></tr><tr><th>24</th><td>Denmark</td><td>3573</td></tr><tr><th>25</th><td>Russia</td><td>3548</td></tr><tr><th>26</th><td>Chile</td><td>3404</td></tr><tr><th>27</th><td>Ecuador</td><td>3163</td></tr><tr><th>28</th><td>Malaysia</td><td>3116</td></tr><tr><th>29</th><td>Poland</td><td>2946</td></tr><tr><th>30</th><td>Romania</td><td>2738</td></tr><tr><th>&vellip;</th><td>&vellip;</td><td>&vellip;</td></tr></tbody></table>"
      ],
      "text/latex": [
       "\\begin{tabular}{r|cc}\n",
       "\t& Country\\_Region & Confirmed\\_sum\\\\\n",
       "\t\\hline\n",
       "\t& String & Int64\\\\\n",
       "\t\\hline\n",
       "\t1 & US & 243453 \\\\\n",
       "\t2 & Italy & 115242 \\\\\n",
       "\t3 & Spain & 112065 \\\\\n",
       "\t4 & Germany & 84794 \\\\\n",
       "\t5 & China & 82432 \\\\\n",
       "\t6 & France & 59929 \\\\\n",
       "\t7 & Iran & 50468 \\\\\n",
       "\t8 & United Kingdom & 34173 \\\\\n",
       "\t9 & Switzerland & 18827 \\\\\n",
       "\t10 & Turkey & 18135 \\\\\n",
       "\t11 & Belgium & 15348 \\\\\n",
       "\t12 & Netherlands & 14788 \\\\\n",
       "\t13 & Canada & 11284 \\\\\n",
       "\t14 & Austria & 11129 \\\\\n",
       "\t15 & Korea, South & 9976 \\\\\n",
       "\t16 & Portugal & 9034 \\\\\n",
       "\t17 & Brazil & 8044 \\\\\n",
       "\t18 & Israel & 6857 \\\\\n",
       "\t19 & Sweden & 5568 \\\\\n",
       "\t20 & Norway & 5147 \\\\\n",
       "\t21 & Australia & 5116 \\\\\n",
       "\t22 & Czechia & 3858 \\\\\n",
       "\t23 & Ireland & 3849 \\\\\n",
       "\t24 & Denmark & 3573 \\\\\n",
       "\t25 & Russia & 3548 \\\\\n",
       "\t26 & Chile & 3404 \\\\\n",
       "\t27 & Ecuador & 3163 \\\\\n",
       "\t28 & Malaysia & 3116 \\\\\n",
       "\t29 & Poland & 2946 \\\\\n",
       "\t30 & Romania & 2738 \\\\\n",
       "\t$\\dots$ & $\\dots$ & $\\dots$ \\\\\n",
       "\\end{tabular}\n"
      ],
      "text/plain": [
       "181×2 DataFrame\n",
       "│ Row │ Country_Region                   │ Confirmed_sum │\n",
       "│     │ \u001b[90mString\u001b[39m                           │ \u001b[90mInt64\u001b[39m         │\n",
       "├─────┼──────────────────────────────────┼───────────────┤\n",
       "│ 1   │ US                               │ 243453        │\n",
       "│ 2   │ Italy                            │ 115242        │\n",
       "│ 3   │ Spain                            │ 112065        │\n",
       "│ 4   │ Germany                          │ 84794         │\n",
       "│ 5   │ China                            │ 82432         │\n",
       "│ 6   │ France                           │ 59929         │\n",
       "│ 7   │ Iran                             │ 50468         │\n",
       "│ 8   │ United Kingdom                   │ 34173         │\n",
       "│ 9   │ Switzerland                      │ 18827         │\n",
       "│ 10  │ Turkey                           │ 18135         │\n",
       "⋮\n",
       "│ 171 │ Somalia                          │ 5             │\n",
       "│ 172 │ Botswana                         │ 4             │\n",
       "│ 173 │ Gambia                           │ 4             │\n",
       "│ 174 │ Belize                           │ 3             │\n",
       "│ 175 │ Burundi                          │ 3             │\n",
       "│ 176 │ Central African Republic         │ 3             │\n",
       "│ 177 │ Malawi                           │ 3             │\n",
       "│ 178 │ Saint Vincent and the Grenadines │ 2             │\n",
       "│ 179 │ Sierra Leone                     │ 2             │\n",
       "│ 180 │ Papua New Guinea                 │ 1             │\n",
       "│ 181 │ Timor-Leste                      │ 1             │"
      ]
     },
     "execution_count": 4,
     "metadata": {},
     "output_type": "execute_result"
    }
   ],
   "source": [
    "# 顯示所有資料\n",
    "sort(by(df, :Country_Region, :Confirmed => sum), :Confirmed_sum, rev=true)"
   ]
  },
  {
   "cell_type": "markdown",
   "metadata": {
    "colab_type": "text",
    "id": "2ye5nBbjlD3G"
   },
   "source": [
    "## 作業2：請列出美國各區域或事件 (依 Province_State 欄) 的累積確診、死亡、康復人數。\n",
    "\n",
    "【提示】使用 Split-Apply-Combine Strategy 時，有幾種不同的函式可以使用，請參照 `DataFrames.jl` 官方文件 [https://juliadata.github.io/DataFrames.jl/stable/lib/functions/#DataFrames.groupby](https://juliadata.github.io/DataFrames.jl/stable/lib/functions/#DataFrames.groupby)"
   ]
  },
  {
   "cell_type": "code",
   "execution_count": 5,
   "metadata": {
    "colab": {},
    "colab_type": "code",
    "id": "wDmhNGHWlD3H"
   },
   "outputs": [
    {
     "data": {
      "text/html": [
       "<table class=\"data-frame\"><thead><tr><th></th><th>variable</th><th>mean</th><th>min</th><th>median</th><th>max</th></tr><tr><th></th><th>Symbol</th><th>Union…</th><th>Any</th><th>Union…</th><th>Any</th></tr></thead><tbody><p>12 rows × 8 columns (omitted printing of 3 columns)</p><tr><th>1</th><td>FIPS</td><td>30958.4</td><td>66</td><td>29093.0</td><td>99999</td></tr><tr><th>2</th><td>Admin2</td><td></td><td>Abbeville</td><td></td><td>unassigned</td></tr><tr><th>3</th><td>Province_State</td><td></td><td>Alabama</td><td></td><td>Zhejiang</td></tr><tr><th>4</th><td>Country_Region</td><td></td><td>Afghanistan</td><td></td><td>Zimbabwe</td></tr><tr><th>5</th><td>Last_Update</td><td></td><td>2020-02-23 11:19:02</td><td></td><td>2020-04-02 23:32:01</td></tr><tr><th>6</th><td>Lat</td><td>36.2992</td><td>-42.8821</td><td>37.7171</td><td>71.7069</td></tr><tr><th>7</th><td>Long_</td><td>-78.9577</td><td>-159.597</td><td>-86.5104</td><td>178.065</td></tr><tr><th>8</th><td>Confirmed</td><td>394.378</td><td>0</td><td>7.0</td><td>115242</td></tr><tr><th>9</th><td>Deaths</td><td>20.624</td><td>0</td><td>0.0</td><td>13915</td></tr><tr><th>10</th><td>Recovered</td><td>81.8462</td><td>0</td><td>0.0</td><td>63471</td></tr><tr><th>11</th><td>Active</td><td>199.29</td><td>0</td><td>0.0</td><td>83049</td></tr><tr><th>12</th><td>Combined_Key</td><td></td><td>,,Belize</td><td></td><td>unassigned, Wyoming, US</td></tr></tbody></table>"
      ],
      "text/latex": [
       "\\begin{tabular}{r|cccccc}\n",
       "\t& variable & mean & min & median & max & \\\\\n",
       "\t\\hline\n",
       "\t& Symbol & Union… & Any & Union… & Any & \\\\\n",
       "\t\\hline\n",
       "\t1 & FIPS & 30958.4 & 66 & 29093.0 & 99999 & $\\dots$ \\\\\n",
       "\t2 & Admin2 &  & Abbeville &  & unassigned & $\\dots$ \\\\\n",
       "\t3 & Province\\_State &  & Alabama &  & Zhejiang & $\\dots$ \\\\\n",
       "\t4 & Country\\_Region &  & Afghanistan &  & Zimbabwe & $\\dots$ \\\\\n",
       "\t5 & Last\\_Update &  & 2020-02-23 11:19:02 &  & 2020-04-02 23:32:01 & $\\dots$ \\\\\n",
       "\t6 & Lat & 36.2992 & -42.8821 & 37.7171 & 71.7069 & $\\dots$ \\\\\n",
       "\t7 & Long\\_ & -78.9577 & -159.597 & -86.5104 & 178.065 & $\\dots$ \\\\\n",
       "\t8 & Confirmed & 394.378 & 0 & 7.0 & 115242 & $\\dots$ \\\\\n",
       "\t9 & Deaths & 20.624 & 0 & 0.0 & 13915 & $\\dots$ \\\\\n",
       "\t10 & Recovered & 81.8462 & 0 & 0.0 & 63471 & $\\dots$ \\\\\n",
       "\t11 & Active & 199.29 & 0 & 0.0 & 83049 & $\\dots$ \\\\\n",
       "\t12 & Combined\\_Key &  & ,,Belize &  & unassigned, Wyoming, US & $\\dots$ \\\\\n",
       "\\end{tabular}\n"
      ],
      "text/plain": [
       "12×8 DataFrame. Omitted printing of 4 columns\n",
       "│ Row │ variable       │ mean     │ min                 │ median   │\n",
       "│     │ \u001b[90mSymbol\u001b[39m         │ \u001b[90mUnion…\u001b[39m   │ \u001b[90mAny\u001b[39m                 │ \u001b[90mUnion…\u001b[39m   │\n",
       "├─────┼────────────────┼──────────┼─────────────────────┼──────────┤\n",
       "│ 1   │ FIPS           │ 30958.4  │ 66                  │ 29093.0  │\n",
       "│ 2   │ Admin2         │          │ Abbeville           │          │\n",
       "│ 3   │ Province_State │          │ Alabama             │          │\n",
       "│ 4   │ Country_Region │          │ Afghanistan         │          │\n",
       "│ 5   │ Last_Update    │          │ 2020-02-23 11:19:02 │          │\n",
       "│ 6   │ Lat            │ 36.2992  │ -42.8821            │ 37.7171  │\n",
       "│ 7   │ Long_          │ -78.9577 │ -159.597            │ -86.5104 │\n",
       "│ 8   │ Confirmed      │ 394.378  │ 0                   │ 7.0      │\n",
       "│ 9   │ Deaths         │ 20.624   │ 0                   │ 0.0      │\n",
       "│ 10  │ Recovered      │ 81.8462  │ 0                   │ 0.0      │\n",
       "│ 11  │ Active         │ 199.29   │ 0                   │ 0.0      │\n",
       "│ 12  │ Combined_Key   │          │ ,,Belize            │          │"
      ]
     },
     "execution_count": 5,
     "metadata": {},
     "output_type": "execute_result"
    }
   ],
   "source": [
    "describe(df)"
   ]
  },
  {
   "cell_type": "code",
   "execution_count": 6,
   "metadata": {
    "colab": {},
    "colab_type": "code",
    "id": "DNcWry3zlD3N"
   },
   "outputs": [
    {
     "data": {
      "text/html": [
       "<table class=\"data-frame\"><thead><tr><th></th><th>Province_State</th><th>Confirmed_sum</th><th>Recovered_sum</th><th>Deaths_sum</th></tr><tr><th></th><th>String⍰</th><th>Int64</th><th>Int64</th><th>Int64</th></tr></thead><tbody><p>58 rows × 4 columns</p><tr><th>1</th><td>South Carolina</td><td>1554</td><td>0</td><td>31</td></tr><tr><th>2</th><td>Louisiana</td><td>9159</td><td>0</td><td>310</td></tr><tr><th>3</th><td>Virginia</td><td>1706</td><td>0</td><td>41</td></tr><tr><th>4</th><td>Idaho</td><td>776</td><td>0</td><td>9</td></tr><tr><th>5</th><td>Iowa</td><td>614</td><td>0</td><td>11</td></tr><tr><th>6</th><td>Missouri</td><td>1857</td><td>0</td><td>22</td></tr><tr><th>7</th><td>Oklahoma</td><td>881</td><td>0</td><td>34</td></tr><tr><th>8</th><td>Colorado</td><td>3342</td><td>0</td><td>80</td></tr><tr><th>9</th><td>Illinois</td><td>7695</td><td>0</td><td>163</td></tr><tr><th>10</th><td>Indiana</td><td>3038</td><td>0</td><td>78</td></tr><tr><th>11</th><td>Mississippi</td><td>1177</td><td>0</td><td>26</td></tr><tr><th>12</th><td>Nebraska</td><td>246</td><td>0</td><td>5</td></tr><tr><th>13</th><td>Pennsylvania</td><td>7268</td><td>0</td><td>90</td></tr><tr><th>14</th><td>Washington</td><td>6389</td><td>0</td><td>271</td></tr><tr><th>15</th><td>Wisconsin</td><td>1748</td><td>0</td><td>38</td></tr><tr><th>16</th><td>Vermont</td><td>338</td><td>0</td><td>17</td></tr><tr><th>17</th><td>Florida</td><td>9008</td><td>0</td><td>164</td></tr><tr><th>18</th><td>North Carolina</td><td>1977</td><td>0</td><td>21</td></tr><tr><th>19</th><td>California</td><td>10773</td><td>0</td><td>238</td></tr><tr><th>20</th><td>New York</td><td>92506</td><td>0</td><td>2373</td></tr><tr><th>21</th><td>Wyoming</td><td>150</td><td>0</td><td>0</td></tr><tr><th>22</th><td>Michigan</td><td>10791</td><td>0</td><td>417</td></tr><tr><th>23</th><td>Maryland</td><td>2331</td><td>0</td><td>36</td></tr><tr><th>24</th><td>Kentucky</td><td>770</td><td>0</td><td>31</td></tr><tr><th>25</th><td>Ohio</td><td>2901</td><td>0</td><td>81</td></tr><tr><th>26</th><td>Alaska</td><td>143</td><td>0</td><td>3</td></tr><tr><th>27</th><td>Kansas</td><td>553</td><td>0</td><td>12</td></tr><tr><th>28</th><td>Tennessee</td><td>2845</td><td>0</td><td>36</td></tr><tr><th>29</th><td>Texas</td><td>5069</td><td>0</td><td>77</td></tr><tr><th>30</th><td>Maine</td><td>376</td><td>0</td><td>7</td></tr><tr><th>&vellip;</th><td>&vellip;</td><td>&vellip;</td><td>&vellip;</td><td>&vellip;</td></tr></tbody></table>"
      ],
      "text/latex": [
       "\\begin{tabular}{r|cccc}\n",
       "\t& Province\\_State & Confirmed\\_sum & Recovered\\_sum & Deaths\\_sum\\\\\n",
       "\t\\hline\n",
       "\t& String⍰ & Int64 & Int64 & Int64\\\\\n",
       "\t\\hline\n",
       "\t1 & South Carolina & 1554 & 0 & 31 \\\\\n",
       "\t2 & Louisiana & 9159 & 0 & 310 \\\\\n",
       "\t3 & Virginia & 1706 & 0 & 41 \\\\\n",
       "\t4 & Idaho & 776 & 0 & 9 \\\\\n",
       "\t5 & Iowa & 614 & 0 & 11 \\\\\n",
       "\t6 & Missouri & 1857 & 0 & 22 \\\\\n",
       "\t7 & Oklahoma & 881 & 0 & 34 \\\\\n",
       "\t8 & Colorado & 3342 & 0 & 80 \\\\\n",
       "\t9 & Illinois & 7695 & 0 & 163 \\\\\n",
       "\t10 & Indiana & 3038 & 0 & 78 \\\\\n",
       "\t11 & Mississippi & 1177 & 0 & 26 \\\\\n",
       "\t12 & Nebraska & 246 & 0 & 5 \\\\\n",
       "\t13 & Pennsylvania & 7268 & 0 & 90 \\\\\n",
       "\t14 & Washington & 6389 & 0 & 271 \\\\\n",
       "\t15 & Wisconsin & 1748 & 0 & 38 \\\\\n",
       "\t16 & Vermont & 338 & 0 & 17 \\\\\n",
       "\t17 & Florida & 9008 & 0 & 164 \\\\\n",
       "\t18 & North Carolina & 1977 & 0 & 21 \\\\\n",
       "\t19 & California & 10773 & 0 & 238 \\\\\n",
       "\t20 & New York & 92506 & 0 & 2373 \\\\\n",
       "\t21 & Wyoming & 150 & 0 & 0 \\\\\n",
       "\t22 & Michigan & 10791 & 0 & 417 \\\\\n",
       "\t23 & Maryland & 2331 & 0 & 36 \\\\\n",
       "\t24 & Kentucky & 770 & 0 & 31 \\\\\n",
       "\t25 & Ohio & 2901 & 0 & 81 \\\\\n",
       "\t26 & Alaska & 143 & 0 & 3 \\\\\n",
       "\t27 & Kansas & 553 & 0 & 12 \\\\\n",
       "\t28 & Tennessee & 2845 & 0 & 36 \\\\\n",
       "\t29 & Texas & 5069 & 0 & 77 \\\\\n",
       "\t30 & Maine & 376 & 0 & 7 \\\\\n",
       "\t$\\dots$ & $\\dots$ & $\\dots$ & $\\dots$ & $\\dots$ \\\\\n",
       "\\end{tabular}\n"
      ],
      "text/plain": [
       "58×4 DataFrame\n",
       "│ Row │ Province_State           │ Confirmed_sum │ Recovered_sum │ Deaths_sum │\n",
       "│     │ \u001b[90mUnion{Missing, String}\u001b[39m   │ \u001b[90mInt64\u001b[39m         │ \u001b[90mInt64\u001b[39m         │ \u001b[90mInt64\u001b[39m      │\n",
       "├─────┼──────────────────────────┼───────────────┼───────────────┼────────────┤\n",
       "│ 1   │ South Carolina           │ 1554          │ 0             │ 31         │\n",
       "│ 2   │ Louisiana                │ 9159          │ 0             │ 310        │\n",
       "│ 3   │ Virginia                 │ 1706          │ 0             │ 41         │\n",
       "│ 4   │ Idaho                    │ 776           │ 0             │ 9          │\n",
       "│ 5   │ Iowa                     │ 614           │ 0             │ 11         │\n",
       "│ 6   │ Missouri                 │ 1857          │ 0             │ 22         │\n",
       "│ 7   │ Oklahoma                 │ 881           │ 0             │ 34         │\n",
       "│ 8   │ Colorado                 │ 3342          │ 0             │ 80         │\n",
       "│ 9   │ Illinois                 │ 7695          │ 0             │ 163        │\n",
       "│ 10  │ Indiana                  │ 3038          │ 0             │ 78         │\n",
       "⋮\n",
       "│ 48  │ District of Columbia     │ 653           │ 0             │ 12         │\n",
       "│ 49  │ Connecticut              │ 3824          │ 0             │ 112        │\n",
       "│ 50  │ Hawaii                   │ 256           │ 0             │ 1          │\n",
       "│ 51  │ Delaware                 │ 393           │ 0             │ 12         │\n",
       "│ 52  │ Diamond Princess         │ 49            │ 0             │ 0          │\n",
       "│ 53  │ Grand Princess           │ 103           │ 0             │ 3          │\n",
       "│ 54  │ Guam                     │ 82            │ 0             │ 3          │\n",
       "│ 55  │ Northern Mariana Islands │ 6             │ 0             │ 1          │\n",
       "│ 56  │ Puerto Rico              │ 316           │ 0             │ 12         │\n",
       "│ 57  │ Recovered                │ 0             │ 9001          │ 0          │\n",
       "│ 58  │ Virgin Islands           │ 30            │ 0             │ 0          │"
      ]
     },
     "execution_count": 6,
     "metadata": {},
     "output_type": "execute_result"
    }
   ],
   "source": [
    "func_tuple = (:Confirmed => sum, :Recovered => sum, :Deaths => sum)\n",
    "us_df = filter(row -> row[:Country_Region] == \"US\", df)\n",
    "by(us_df, :Province_State, func_tuple)"
   ]
  }
 ],
 "metadata": {
  "colab": {
   "name": "julia_018_hw.ipynb",
   "provenance": []
  },
  "kernelspec": {
   "display_name": "Julia 1.4.0",
   "language": "julia",
   "name": "julia-1.4"
  },
  "language_info": {
   "file_extension": ".jl",
   "mimetype": "application/julia",
   "name": "julia",
   "version": "1.4.0"
  }
 },
 "nbformat": 4,
 "nbformat_minor": 4
}
