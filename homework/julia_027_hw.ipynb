{
 "cells": [
  {
   "cell_type": "markdown",
   "metadata": {},
   "source": [
    "# Julia 機器學習：GLM 線性迴歸\n",
    "\n",
    "## 作業 027：波士頓房價預測資料集\n",
    "\n",
    "請使用 GLM 中的模型，建立一個預測模型來預測波士頓的房價。"
   ]
  },
  {
   "cell_type": "code",
   "execution_count": 1,
   "metadata": {},
   "outputs": [],
   "source": [
    "using GLM, RDatasets, MLDataUtils"
   ]
  },
  {
   "cell_type": "markdown",
   "metadata": {},
   "source": [
    "## 讀取資料"
   ]
  },
  {
   "cell_type": "code",
   "execution_count": 2,
   "metadata": {},
   "outputs": [
    {
     "data": {
      "text/html": [
       "<table class=\"data-frame\"><thead><tr><th></th><th>Crim</th><th>Zn</th><th>Indus</th><th>Chas</th><th>NOx</th><th>Rm</th><th>Age</th><th>Dis</th><th>Rad</th><th>Tax</th></tr><tr><th></th><th>Float64</th><th>Float64</th><th>Float64</th><th>Int64</th><th>Float64</th><th>Float64</th><th>Float64</th><th>Float64</th><th>Int64</th><th>Int64</th></tr></thead><tbody><p>10 rows × 14 columns (omitted printing of 4 columns)</p><tr><th>1</th><td>0.00632</td><td>18.0</td><td>2.31</td><td>0</td><td>0.538</td><td>6.575</td><td>65.2</td><td>4.09</td><td>1</td><td>296</td></tr><tr><th>2</th><td>0.02731</td><td>0.0</td><td>7.07</td><td>0</td><td>0.469</td><td>6.421</td><td>78.9</td><td>4.9671</td><td>2</td><td>242</td></tr><tr><th>3</th><td>0.02729</td><td>0.0</td><td>7.07</td><td>0</td><td>0.469</td><td>7.185</td><td>61.1</td><td>4.9671</td><td>2</td><td>242</td></tr><tr><th>4</th><td>0.03237</td><td>0.0</td><td>2.18</td><td>0</td><td>0.458</td><td>6.998</td><td>45.8</td><td>6.0622</td><td>3</td><td>222</td></tr><tr><th>5</th><td>0.06905</td><td>0.0</td><td>2.18</td><td>0</td><td>0.458</td><td>7.147</td><td>54.2</td><td>6.0622</td><td>3</td><td>222</td></tr><tr><th>6</th><td>0.02985</td><td>0.0</td><td>2.18</td><td>0</td><td>0.458</td><td>6.43</td><td>58.7</td><td>6.0622</td><td>3</td><td>222</td></tr><tr><th>7</th><td>0.08829</td><td>12.5</td><td>7.87</td><td>0</td><td>0.524</td><td>6.012</td><td>66.6</td><td>5.5605</td><td>5</td><td>311</td></tr><tr><th>8</th><td>0.14455</td><td>12.5</td><td>7.87</td><td>0</td><td>0.524</td><td>6.172</td><td>96.1</td><td>5.9505</td><td>5</td><td>311</td></tr><tr><th>9</th><td>0.21124</td><td>12.5</td><td>7.87</td><td>0</td><td>0.524</td><td>5.631</td><td>100.0</td><td>6.0821</td><td>5</td><td>311</td></tr><tr><th>10</th><td>0.17004</td><td>12.5</td><td>7.87</td><td>0</td><td>0.524</td><td>6.004</td><td>85.9</td><td>6.5921</td><td>5</td><td>311</td></tr></tbody></table>"
      ],
      "text/latex": [
       "\\begin{tabular}{r|ccccccccccc}\n",
       "\t& Crim & Zn & Indus & Chas & NOx & Rm & Age & Dis & Rad & Tax & \\\\\n",
       "\t\\hline\n",
       "\t& Float64 & Float64 & Float64 & Int64 & Float64 & Float64 & Float64 & Float64 & Int64 & Int64 & \\\\\n",
       "\t\\hline\n",
       "\t1 & 0.00632 & 18.0 & 2.31 & 0 & 0.538 & 6.575 & 65.2 & 4.09 & 1 & 296 & $\\dots$ \\\\\n",
       "\t2 & 0.02731 & 0.0 & 7.07 & 0 & 0.469 & 6.421 & 78.9 & 4.9671 & 2 & 242 & $\\dots$ \\\\\n",
       "\t3 & 0.02729 & 0.0 & 7.07 & 0 & 0.469 & 7.185 & 61.1 & 4.9671 & 2 & 242 & $\\dots$ \\\\\n",
       "\t4 & 0.03237 & 0.0 & 2.18 & 0 & 0.458 & 6.998 & 45.8 & 6.0622 & 3 & 222 & $\\dots$ \\\\\n",
       "\t5 & 0.06905 & 0.0 & 2.18 & 0 & 0.458 & 7.147 & 54.2 & 6.0622 & 3 & 222 & $\\dots$ \\\\\n",
       "\t6 & 0.02985 & 0.0 & 2.18 & 0 & 0.458 & 6.43 & 58.7 & 6.0622 & 3 & 222 & $\\dots$ \\\\\n",
       "\t7 & 0.08829 & 12.5 & 7.87 & 0 & 0.524 & 6.012 & 66.6 & 5.5605 & 5 & 311 & $\\dots$ \\\\\n",
       "\t8 & 0.14455 & 12.5 & 7.87 & 0 & 0.524 & 6.172 & 96.1 & 5.9505 & 5 & 311 & $\\dots$ \\\\\n",
       "\t9 & 0.21124 & 12.5 & 7.87 & 0 & 0.524 & 5.631 & 100.0 & 6.0821 & 5 & 311 & $\\dots$ \\\\\n",
       "\t10 & 0.17004 & 12.5 & 7.87 & 0 & 0.524 & 6.004 & 85.9 & 6.5921 & 5 & 311 & $\\dots$ \\\\\n",
       "\\end{tabular}\n"
      ],
      "text/plain": [
       "10×14 DataFrame. Omitted printing of 7 columns\n",
       "│ Row │ Crim    │ Zn      │ Indus   │ Chas  │ NOx     │ Rm      │ Age     │\n",
       "│     │ \u001b[90mFloat64\u001b[39m │ \u001b[90mFloat64\u001b[39m │ \u001b[90mFloat64\u001b[39m │ \u001b[90mInt64\u001b[39m │ \u001b[90mFloat64\u001b[39m │ \u001b[90mFloat64\u001b[39m │ \u001b[90mFloat64\u001b[39m │\n",
       "├─────┼─────────┼─────────┼─────────┼───────┼─────────┼─────────┼─────────┤\n",
       "│ 1   │ 0.00632 │ 18.0    │ 2.31    │ 0     │ 0.538   │ 6.575   │ 65.2    │\n",
       "│ 2   │ 0.02731 │ 0.0     │ 7.07    │ 0     │ 0.469   │ 6.421   │ 78.9    │\n",
       "│ 3   │ 0.02729 │ 0.0     │ 7.07    │ 0     │ 0.469   │ 7.185   │ 61.1    │\n",
       "│ 4   │ 0.03237 │ 0.0     │ 2.18    │ 0     │ 0.458   │ 6.998   │ 45.8    │\n",
       "│ 5   │ 0.06905 │ 0.0     │ 2.18    │ 0     │ 0.458   │ 7.147   │ 54.2    │\n",
       "│ 6   │ 0.02985 │ 0.0     │ 2.18    │ 0     │ 0.458   │ 6.43    │ 58.7    │\n",
       "│ 7   │ 0.08829 │ 12.5    │ 7.87    │ 0     │ 0.524   │ 6.012   │ 66.6    │\n",
       "│ 8   │ 0.14455 │ 12.5    │ 7.87    │ 0     │ 0.524   │ 6.172   │ 96.1    │\n",
       "│ 9   │ 0.21124 │ 12.5    │ 7.87    │ 0     │ 0.524   │ 5.631   │ 100.0   │\n",
       "│ 10  │ 0.17004 │ 12.5    │ 7.87    │ 0     │ 0.524   │ 6.004   │ 85.9    │"
      ]
     },
     "execution_count": 2,
     "metadata": {},
     "output_type": "execute_result"
    }
   ],
   "source": [
    "boston = dataset(\"MASS\", \"Boston\")\n",
    "first(boston, 10)"
   ]
  },
  {
   "cell_type": "code",
   "execution_count": 3,
   "metadata": {},
   "outputs": [],
   "source": [
    "indecies = MLDataUtils.shuffleobs(collect(1:nrow(boston)))\n",
    "train_ind, test_ind = MLDataUtils.splitobs(indecies, at = 0.7);"
   ]
  },
  {
   "cell_type": "code",
   "execution_count": 4,
   "metadata": {},
   "outputs": [
    {
     "data": {
      "text/html": [
       "<table class=\"data-frame\"><thead><tr><th></th><th>Crim</th><th>Zn</th><th>Indus</th><th>Chas</th><th>NOx</th><th>Rm</th><th>Age</th><th>Dis</th><th>Rad</th><th>Tax</th></tr><tr><th></th><th>Float64</th><th>Float64</th><th>Float64</th><th>Int64</th><th>Float64</th><th>Float64</th><th>Float64</th><th>Float64</th><th>Int64</th><th>Int64</th></tr></thead><tbody><p>152 rows × 14 columns (omitted printing of 4 columns)</p><tr><th>1</th><td>0.1415</td><td>0.0</td><td>6.91</td><td>0</td><td>0.448</td><td>6.169</td><td>6.6</td><td>5.7209</td><td>3</td><td>233</td></tr><tr><th>2</th><td>0.03237</td><td>0.0</td><td>2.18</td><td>0</td><td>0.458</td><td>6.998</td><td>45.8</td><td>6.0622</td><td>3</td><td>222</td></tr><tr><th>3</th><td>0.09178</td><td>0.0</td><td>4.05</td><td>0</td><td>0.51</td><td>6.416</td><td>84.1</td><td>2.6463</td><td>5</td><td>296</td></tr><tr><th>4</th><td>0.1146</td><td>20.0</td><td>6.96</td><td>0</td><td>0.464</td><td>6.538</td><td>58.7</td><td>3.9175</td><td>3</td><td>223</td></tr><tr><th>5</th><td>24.3938</td><td>0.0</td><td>18.1</td><td>0</td><td>0.7</td><td>4.652</td><td>100.0</td><td>1.4672</td><td>24</td><td>666</td></tr><tr><th>6</th><td>1.49632</td><td>0.0</td><td>19.58</td><td>0</td><td>0.871</td><td>5.404</td><td>100.0</td><td>1.5916</td><td>5</td><td>403</td></tr><tr><th>7</th><td>3.32105</td><td>0.0</td><td>19.58</td><td>1</td><td>0.871</td><td>5.403</td><td>100.0</td><td>1.3216</td><td>5</td><td>403</td></tr><tr><th>8</th><td>13.5222</td><td>0.0</td><td>18.1</td><td>0</td><td>0.631</td><td>3.863</td><td>100.0</td><td>1.5106</td><td>24</td><td>666</td></tr><tr><th>9</th><td>0.26838</td><td>0.0</td><td>9.69</td><td>0</td><td>0.585</td><td>5.794</td><td>70.6</td><td>2.8927</td><td>6</td><td>391</td></tr><tr><th>10</th><td>0.09849</td><td>0.0</td><td>25.65</td><td>0</td><td>0.581</td><td>5.879</td><td>95.8</td><td>2.0063</td><td>2</td><td>188</td></tr><tr><th>11</th><td>0.10008</td><td>0.0</td><td>2.46</td><td>0</td><td>0.488</td><td>6.563</td><td>95.6</td><td>2.847</td><td>3</td><td>193</td></tr><tr><th>12</th><td>24.8017</td><td>0.0</td><td>18.1</td><td>0</td><td>0.693</td><td>5.349</td><td>96.0</td><td>1.7028</td><td>24</td><td>666</td></tr><tr><th>13</th><td>0.09068</td><td>45.0</td><td>3.44</td><td>0</td><td>0.437</td><td>6.951</td><td>21.5</td><td>6.4798</td><td>5</td><td>398</td></tr><tr><th>14</th><td>0.49298</td><td>0.0</td><td>9.9</td><td>0</td><td>0.544</td><td>6.635</td><td>82.5</td><td>3.3175</td><td>4</td><td>304</td></tr><tr><th>15</th><td>11.8123</td><td>0.0</td><td>18.1</td><td>0</td><td>0.718</td><td>6.824</td><td>76.5</td><td>1.794</td><td>24</td><td>666</td></tr><tr><th>16</th><td>0.03049</td><td>55.0</td><td>3.78</td><td>0</td><td>0.484</td><td>6.874</td><td>28.1</td><td>6.4654</td><td>5</td><td>370</td></tr><tr><th>17</th><td>0.04379</td><td>80.0</td><td>3.37</td><td>0</td><td>0.398</td><td>5.787</td><td>31.1</td><td>6.6115</td><td>4</td><td>337</td></tr><tr><th>18</th><td>0.08014</td><td>0.0</td><td>5.96</td><td>0</td><td>0.499</td><td>5.85</td><td>41.5</td><td>3.9342</td><td>5</td><td>279</td></tr><tr><th>19</th><td>0.22188</td><td>20.0</td><td>6.96</td><td>1</td><td>0.464</td><td>7.691</td><td>51.8</td><td>4.3665</td><td>3</td><td>223</td></tr><tr><th>20</th><td>0.01501</td><td>90.0</td><td>1.21</td><td>1</td><td>0.401</td><td>7.923</td><td>24.8</td><td>5.885</td><td>1</td><td>198</td></tr><tr><th>21</th><td>0.82526</td><td>20.0</td><td>3.97</td><td>0</td><td>0.647</td><td>7.327</td><td>94.5</td><td>2.0788</td><td>5</td><td>264</td></tr><tr><th>22</th><td>0.01709</td><td>90.0</td><td>2.02</td><td>0</td><td>0.41</td><td>6.728</td><td>36.1</td><td>12.1265</td><td>5</td><td>187</td></tr><tr><th>23</th><td>0.20608</td><td>22.0</td><td>5.86</td><td>0</td><td>0.431</td><td>5.593</td><td>76.5</td><td>7.9549</td><td>7</td><td>330</td></tr><tr><th>24</th><td>9.96654</td><td>0.0</td><td>18.1</td><td>0</td><td>0.74</td><td>6.485</td><td>100.0</td><td>1.9784</td><td>24</td><td>666</td></tr><tr><th>25</th><td>0.05372</td><td>0.0</td><td>13.92</td><td>0</td><td>0.437</td><td>6.549</td><td>51.0</td><td>5.9604</td><td>4</td><td>289</td></tr><tr><th>26</th><td>15.0234</td><td>0.0</td><td>18.1</td><td>0</td><td>0.614</td><td>5.304</td><td>97.3</td><td>2.1007</td><td>24</td><td>666</td></tr><tr><th>27</th><td>1.61282</td><td>0.0</td><td>8.14</td><td>0</td><td>0.538</td><td>6.096</td><td>96.9</td><td>3.7598</td><td>4</td><td>307</td></tr><tr><th>28</th><td>0.08447</td><td>0.0</td><td>4.05</td><td>0</td><td>0.51</td><td>5.859</td><td>68.7</td><td>2.7019</td><td>5</td><td>296</td></tr><tr><th>29</th><td>23.6482</td><td>0.0</td><td>18.1</td><td>0</td><td>0.671</td><td>6.38</td><td>96.2</td><td>1.3861</td><td>24</td><td>666</td></tr><tr><th>30</th><td>0.06466</td><td>70.0</td><td>2.24</td><td>0</td><td>0.4</td><td>6.345</td><td>20.1</td><td>7.8278</td><td>5</td><td>358</td></tr><tr><th>&vellip;</th><td>&vellip;</td><td>&vellip;</td><td>&vellip;</td><td>&vellip;</td><td>&vellip;</td><td>&vellip;</td><td>&vellip;</td><td>&vellip;</td><td>&vellip;</td><td>&vellip;</td></tr></tbody></table>"
      ],
      "text/latex": [
       "\\begin{tabular}{r|ccccccccccc}\n",
       "\t& Crim & Zn & Indus & Chas & NOx & Rm & Age & Dis & Rad & Tax & \\\\\n",
       "\t\\hline\n",
       "\t& Float64 & Float64 & Float64 & Int64 & Float64 & Float64 & Float64 & Float64 & Int64 & Int64 & \\\\\n",
       "\t\\hline\n",
       "\t1 & 0.1415 & 0.0 & 6.91 & 0 & 0.448 & 6.169 & 6.6 & 5.7209 & 3 & 233 & $\\dots$ \\\\\n",
       "\t2 & 0.03237 & 0.0 & 2.18 & 0 & 0.458 & 6.998 & 45.8 & 6.0622 & 3 & 222 & $\\dots$ \\\\\n",
       "\t3 & 0.09178 & 0.0 & 4.05 & 0 & 0.51 & 6.416 & 84.1 & 2.6463 & 5 & 296 & $\\dots$ \\\\\n",
       "\t4 & 0.1146 & 20.0 & 6.96 & 0 & 0.464 & 6.538 & 58.7 & 3.9175 & 3 & 223 & $\\dots$ \\\\\n",
       "\t5 & 24.3938 & 0.0 & 18.1 & 0 & 0.7 & 4.652 & 100.0 & 1.4672 & 24 & 666 & $\\dots$ \\\\\n",
       "\t6 & 1.49632 & 0.0 & 19.58 & 0 & 0.871 & 5.404 & 100.0 & 1.5916 & 5 & 403 & $\\dots$ \\\\\n",
       "\t7 & 3.32105 & 0.0 & 19.58 & 1 & 0.871 & 5.403 & 100.0 & 1.3216 & 5 & 403 & $\\dots$ \\\\\n",
       "\t8 & 13.5222 & 0.0 & 18.1 & 0 & 0.631 & 3.863 & 100.0 & 1.5106 & 24 & 666 & $\\dots$ \\\\\n",
       "\t9 & 0.26838 & 0.0 & 9.69 & 0 & 0.585 & 5.794 & 70.6 & 2.8927 & 6 & 391 & $\\dots$ \\\\\n",
       "\t10 & 0.09849 & 0.0 & 25.65 & 0 & 0.581 & 5.879 & 95.8 & 2.0063 & 2 & 188 & $\\dots$ \\\\\n",
       "\t11 & 0.10008 & 0.0 & 2.46 & 0 & 0.488 & 6.563 & 95.6 & 2.847 & 3 & 193 & $\\dots$ \\\\\n",
       "\t12 & 24.8017 & 0.0 & 18.1 & 0 & 0.693 & 5.349 & 96.0 & 1.7028 & 24 & 666 & $\\dots$ \\\\\n",
       "\t13 & 0.09068 & 45.0 & 3.44 & 0 & 0.437 & 6.951 & 21.5 & 6.4798 & 5 & 398 & $\\dots$ \\\\\n",
       "\t14 & 0.49298 & 0.0 & 9.9 & 0 & 0.544 & 6.635 & 82.5 & 3.3175 & 4 & 304 & $\\dots$ \\\\\n",
       "\t15 & 11.8123 & 0.0 & 18.1 & 0 & 0.718 & 6.824 & 76.5 & 1.794 & 24 & 666 & $\\dots$ \\\\\n",
       "\t16 & 0.03049 & 55.0 & 3.78 & 0 & 0.484 & 6.874 & 28.1 & 6.4654 & 5 & 370 & $\\dots$ \\\\\n",
       "\t17 & 0.04379 & 80.0 & 3.37 & 0 & 0.398 & 5.787 & 31.1 & 6.6115 & 4 & 337 & $\\dots$ \\\\\n",
       "\t18 & 0.08014 & 0.0 & 5.96 & 0 & 0.499 & 5.85 & 41.5 & 3.9342 & 5 & 279 & $\\dots$ \\\\\n",
       "\t19 & 0.22188 & 20.0 & 6.96 & 1 & 0.464 & 7.691 & 51.8 & 4.3665 & 3 & 223 & $\\dots$ \\\\\n",
       "\t20 & 0.01501 & 90.0 & 1.21 & 1 & 0.401 & 7.923 & 24.8 & 5.885 & 1 & 198 & $\\dots$ \\\\\n",
       "\t21 & 0.82526 & 20.0 & 3.97 & 0 & 0.647 & 7.327 & 94.5 & 2.0788 & 5 & 264 & $\\dots$ \\\\\n",
       "\t22 & 0.01709 & 90.0 & 2.02 & 0 & 0.41 & 6.728 & 36.1 & 12.1265 & 5 & 187 & $\\dots$ \\\\\n",
       "\t23 & 0.20608 & 22.0 & 5.86 & 0 & 0.431 & 5.593 & 76.5 & 7.9549 & 7 & 330 & $\\dots$ \\\\\n",
       "\t24 & 9.96654 & 0.0 & 18.1 & 0 & 0.74 & 6.485 & 100.0 & 1.9784 & 24 & 666 & $\\dots$ \\\\\n",
       "\t25 & 0.05372 & 0.0 & 13.92 & 0 & 0.437 & 6.549 & 51.0 & 5.9604 & 4 & 289 & $\\dots$ \\\\\n",
       "\t26 & 15.0234 & 0.0 & 18.1 & 0 & 0.614 & 5.304 & 97.3 & 2.1007 & 24 & 666 & $\\dots$ \\\\\n",
       "\t27 & 1.61282 & 0.0 & 8.14 & 0 & 0.538 & 6.096 & 96.9 & 3.7598 & 4 & 307 & $\\dots$ \\\\\n",
       "\t28 & 0.08447 & 0.0 & 4.05 & 0 & 0.51 & 5.859 & 68.7 & 2.7019 & 5 & 296 & $\\dots$ \\\\\n",
       "\t29 & 23.6482 & 0.0 & 18.1 & 0 & 0.671 & 6.38 & 96.2 & 1.3861 & 24 & 666 & $\\dots$ \\\\\n",
       "\t30 & 0.06466 & 70.0 & 2.24 & 0 & 0.4 & 6.345 & 20.1 & 7.8278 & 5 & 358 & $\\dots$ \\\\\n",
       "\t$\\dots$ & $\\dots$ & $\\dots$ & $\\dots$ & $\\dots$ & $\\dots$ & $\\dots$ & $\\dots$ & $\\dots$ & $\\dots$ & $\\dots$ &  \\\\\n",
       "\\end{tabular}\n"
      ],
      "text/plain": [
       "152×14 DataFrame. Omitted printing of 7 columns\n",
       "│ Row │ Crim    │ Zn      │ Indus   │ Chas  │ NOx     │ Rm      │ Age     │\n",
       "│     │ \u001b[90mFloat64\u001b[39m │ \u001b[90mFloat64\u001b[39m │ \u001b[90mFloat64\u001b[39m │ \u001b[90mInt64\u001b[39m │ \u001b[90mFloat64\u001b[39m │ \u001b[90mFloat64\u001b[39m │ \u001b[90mFloat64\u001b[39m │\n",
       "├─────┼─────────┼─────────┼─────────┼───────┼─────────┼─────────┼─────────┤\n",
       "│ 1   │ 0.1415  │ 0.0     │ 6.91    │ 0     │ 0.448   │ 6.169   │ 6.6     │\n",
       "│ 2   │ 0.03237 │ 0.0     │ 2.18    │ 0     │ 0.458   │ 6.998   │ 45.8    │\n",
       "│ 3   │ 0.09178 │ 0.0     │ 4.05    │ 0     │ 0.51    │ 6.416   │ 84.1    │\n",
       "│ 4   │ 0.1146  │ 20.0    │ 6.96    │ 0     │ 0.464   │ 6.538   │ 58.7    │\n",
       "│ 5   │ 24.3938 │ 0.0     │ 18.1    │ 0     │ 0.7     │ 4.652   │ 100.0   │\n",
       "│ 6   │ 1.49632 │ 0.0     │ 19.58   │ 0     │ 0.871   │ 5.404   │ 100.0   │\n",
       "│ 7   │ 3.32105 │ 0.0     │ 19.58   │ 1     │ 0.871   │ 5.403   │ 100.0   │\n",
       "│ 8   │ 13.5222 │ 0.0     │ 18.1    │ 0     │ 0.631   │ 3.863   │ 100.0   │\n",
       "│ 9   │ 0.26838 │ 0.0     │ 9.69    │ 0     │ 0.585   │ 5.794   │ 70.6    │\n",
       "│ 10  │ 0.09849 │ 0.0     │ 25.65   │ 0     │ 0.581   │ 5.879   │ 95.8    │\n",
       "⋮\n",
       "│ 142 │ 0.17171 │ 25.0    │ 5.13    │ 0     │ 0.453   │ 5.966   │ 93.4    │\n",
       "│ 143 │ 9.82349 │ 0.0     │ 18.1    │ 0     │ 0.671   │ 6.794   │ 98.8    │\n",
       "│ 144 │ 0.22489 │ 12.5    │ 7.87    │ 0     │ 0.524   │ 6.377   │ 94.3    │\n",
       "│ 145 │ 0.13262 │ 0.0     │ 8.56    │ 0     │ 0.52    │ 5.851   │ 96.7    │\n",
       "│ 146 │ 7.99248 │ 0.0     │ 18.1    │ 0     │ 0.7     │ 5.52    │ 100.0   │\n",
       "│ 147 │ 0.08199 │ 0.0     │ 13.92   │ 0     │ 0.437   │ 6.009   │ 42.3    │\n",
       "│ 148 │ 0.06899 │ 0.0     │ 25.65   │ 0     │ 0.581   │ 5.87    │ 69.7    │\n",
       "│ 149 │ 0.01965 │ 80.0    │ 1.76    │ 0     │ 0.385   │ 6.23    │ 31.5    │\n",
       "│ 150 │ 0.08826 │ 0.0     │ 10.81   │ 0     │ 0.413   │ 6.417   │ 6.6     │\n",
       "│ 151 │ 15.8744 │ 0.0     │ 18.1    │ 0     │ 0.671   │ 6.545   │ 99.1    │\n",
       "│ 152 │ 5.66637 │ 0.0     │ 18.1    │ 0     │ 0.74    │ 6.219   │ 100.0   │"
      ]
     },
     "execution_count": 4,
     "metadata": {},
     "output_type": "execute_result"
    }
   ],
   "source": [
    "train = boston[train_ind, :]\n",
    "test = boston[test_ind, :]"
   ]
  },
  {
   "cell_type": "code",
   "execution_count": 5,
   "metadata": {},
   "outputs": [
    {
     "data": {
      "text/plain": [
       "14-element Array{Symbol,1}:\n",
       " :Crim\n",
       " :Zn\n",
       " :Indus\n",
       " :Chas\n",
       " :NOx\n",
       " :Rm\n",
       " :Age\n",
       " :Dis\n",
       " :Rad\n",
       " :Tax\n",
       " :PTRatio\n",
       " :Black\n",
       " :LStat\n",
       " :MedV"
      ]
     },
     "execution_count": 5,
     "metadata": {},
     "output_type": "execute_result"
    }
   ],
   "source": [
    "names(boston)"
   ]
  },
  {
   "cell_type": "markdown",
   "metadata": {},
   "source": [
    "## Modeling"
   ]
  },
  {
   "cell_type": "code",
   "execution_count": 6,
   "metadata": {},
   "outputs": [
    {
     "data": {
      "text/plain": [
       "StatsModels.TableRegressionModel{LinearModel{GLM.LmResp{Array{Float64,1}},GLM.DensePredChol{Float64,LinearAlgebra.Cholesky{Float64,Array{Float64,2}}}},Array{Float64,2}}\n",
       "\n",
       "MedV ~ 1 + Crim + Zn + Indus + Chas + NOx + Rm + Age + Dis + Rad + Tax + PTRatio + Black + LStat + MedV\n",
       "\n",
       "Coefficients:\n",
       "──────────────────────────────────────────────────────────────────────────────────────────\n",
       "                 Estimate   Std. Error       t value  Pr(>|t|)     Lower 95%     Upper 95%\n",
       "──────────────────────────────────────────────────────────────────────────────────────────\n",
       "(Intercept)  -4.41086e-12  3.2902e-13   -13.4061        <1e-32  -5.05804e-12  -3.76368e-12\n",
       "Crim          4.7674e-16   1.92333e-15    0.247872      0.8044  -3.30643e-15   4.25991e-15\n",
       "Zn           -2.2439e-15   8.11153e-16   -2.76631       0.0060  -3.83943e-15  -6.48376e-16\n",
       "Indus         5.18408e-15  3.64077e-15    1.42389       0.1554  -1.97727e-15   1.23454e-14\n",
       "Chas          3.62466e-14  5.26271e-14    0.688743      0.4915  -6.72703e-14   1.39763e-13\n",
       "NOx           4.28478e-13  2.31906e-13    1.84764       0.0655  -2.76775e-14   8.84634e-13\n",
       "Rm            4.79298e-13  3.01197e-14   15.9131        <1e-42   4.20053e-13   5.38544e-13\n",
       "Age          -4.46499e-15  7.9361e-16    -5.62618       <1e-7   -6.02601e-15  -2.90397e-15\n",
       "Dis           2.97914e-14  1.261e-14      2.36252       0.0187   4.98769e-15   5.45951e-14\n",
       "Rad          -2.02271e-14  4.11228e-15   -4.9187        <1e-5   -2.83159e-14  -1.21383e-14\n",
       "Tax           9.96551e-16  2.29246e-16    4.34709       <1e-4    5.45628e-16   1.44747e-15\n",
       "PTRatio       2.03642e-14  8.30803e-15    2.45115       0.0147   4.02241e-15   3.6706e-14\n",
       "Black         9.65535e-16  1.60292e-16    6.02361       <1e-8    6.50243e-16   1.28083e-15\n",
       "LStat         3.66371e-14  3.21293e-15   11.403         <1e-24   3.03173e-14   4.29569e-14\n",
       "MedV          1.0          2.78967e-15    3.58466e14    <1e-99   1.0           1.0\n",
       "──────────────────────────────────────────────────────────────────────────────────────────"
      ]
     },
     "execution_count": 6,
     "metadata": {},
     "output_type": "execute_result"
    }
   ],
   "source": [
    "ols = GLM.lm(@formula(MedV ~ Crim + Zn + Indus + Chas + NOx + Rm + Age + Dis + Rad + Tax + PTRatio + Black + LStat + MedV), train)"
   ]
  },
  {
   "cell_type": "code",
   "execution_count": 7,
   "metadata": {},
   "outputs": [
    {
     "data": {
      "text/plain": [
       "152-element Array{Union{Missing, Float64},1}:\n",
       " 25.29999999999993\n",
       " 33.40000000000001\n",
       " 23.599999999999753\n",
       " 24.399999999999867\n",
       " 10.499999999999787\n",
       " 19.599999999999593\n",
       " 13.400000000000194\n",
       " 23.09999999999852\n",
       " 18.29999999999992\n",
       " 18.79999999999989\n",
       " 32.49999999999957\n",
       "  8.299999999999839\n",
       " 37.00000000000012\n",
       "  ⋮\n",
       " 31.999999999999833\n",
       " 15.999999999999748\n",
       " 13.300000000000527\n",
       " 15.000000000000234\n",
       " 19.4999999999999\n",
       " 12.300000000000054\n",
       " 21.699999999999907\n",
       " 21.999999999999886\n",
       " 20.10000000000001\n",
       " 24.200000000000152\n",
       " 10.900000000000418\n",
       " 18.400000000000098"
      ]
     },
     "execution_count": 7,
     "metadata": {},
     "output_type": "execute_result"
    }
   ],
   "source": [
    "preds = predict(ols, test)"
   ]
  },
  {
   "cell_type": "markdown",
   "metadata": {},
   "source": [
    "## Evaluation"
   ]
  },
  {
   "cell_type": "code",
   "execution_count": 8,
   "metadata": {},
   "outputs": [
    {
     "data": {
      "text/plain": [
       "1.0"
      ]
     },
     "execution_count": 8,
     "metadata": {},
     "output_type": "execute_result"
    }
   ],
   "source": [
    "GLM.r²(ols)"
   ]
  },
  {
   "cell_type": "code",
   "execution_count": 9,
   "metadata": {},
   "outputs": [
    {
     "data": {
      "text/plain": [
       "1.0"
      ]
     },
     "execution_count": 9,
     "metadata": {},
     "output_type": "execute_result"
    }
   ],
   "source": [
    "GLM.adjr²(ols)"
   ]
  },
  {
   "cell_type": "code",
   "execution_count": 10,
   "metadata": {},
   "outputs": [
    {
     "data": {
      "text/plain": [
       "152"
      ]
     },
     "execution_count": 10,
     "metadata": {},
     "output_type": "execute_result"
    }
   ],
   "source": [
    "nrow(test)"
   ]
  },
  {
   "cell_type": "code",
   "execution_count": 11,
   "metadata": {},
   "outputs": [
    {
     "data": {
      "text/plain": [
       "2.8995623932085284e-13"
      ]
     },
     "execution_count": 11,
     "metadata": {},
     "output_type": "execute_result"
    }
   ],
   "source": [
    "# RMSE\n",
    "(sum((preds .- test.MedV) .^ 2) / nrow(test)) .^ (1/2)"
   ]
  }
 ],
 "metadata": {
  "kernelspec": {
   "display_name": "Julia 1.4.0",
   "language": "julia",
   "name": "julia-1.4"
  },
  "language_info": {
   "file_extension": ".jl",
   "mimetype": "application/julia",
   "name": "julia",
   "version": "1.4.0"
  }
 },
 "nbformat": 4,
 "nbformat_minor": 4
}
