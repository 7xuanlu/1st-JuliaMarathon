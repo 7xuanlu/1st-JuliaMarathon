{
 "cells": [
  {
   "cell_type": "markdown",
   "metadata": {},
   "source": [
    "## Day 013 作業1：用 Julia 標準函式寫 Sigmoid Function\n",
    "\n",
    "在 Day 002 時我們曾用 LaTeX 撰寫機器學習常見的激活函式 Sigmoid\n",
    "\n",
    "$\\Large f(x)=\\frac{1}{1+e^{-x}}$\n",
    "\n",
    "作業 1 請使用內建函式 `exp()` 來撰寫 Sigmoid 函式，計算矩陣的 sigmoid 值。"
   ]
  },
  {
   "cell_type": "markdown",
   "metadata": {},
   "source": [
    "例如：數字 3 的 sigmoid 值。"
   ]
  },
  {
   "cell_type": "code",
   "execution_count": 1,
   "metadata": {},
   "outputs": [
    {
     "data": {
      "text/plain": [
       "0.9525741268224334"
      ]
     },
     "execution_count": 1,
     "metadata": {},
     "output_type": "execute_result"
    }
   ],
   "source": [
    "1 / (1 + exp(-3))"
   ]
  },
  {
   "cell_type": "markdown",
   "metadata": {},
   "source": [
    "宣告及建立矩陣"
   ]
  },
  {
   "cell_type": "code",
   "execution_count": 2,
   "metadata": {},
   "outputs": [
    {
     "data": {
      "text/plain": [
       "3×5 Array{Int64,2}:\n",
       " 1  10  3  4   6\n",
       " 4   2  4  5  10\n",
       " 8   5  3  5   9"
      ]
     },
     "execution_count": 2,
     "metadata": {},
     "output_type": "execute_result"
    }
   ],
   "source": [
    "A = Matrix([1 10 3 4 6; 4 2 4 5 10; 8 5 3 5 9])"
   ]
  },
  {
   "cell_type": "code",
   "execution_count": 3,
   "metadata": {},
   "outputs": [
    {
     "data": {
      "text/plain": [
       "3×5 Array{Float64,2}:\n",
       " 0.268941    4.53979e-5  0.0474259  0.0179862   0.00247262\n",
       " 0.0179862   0.119203    0.0179862  0.00669285  4.53979e-5\n",
       " 0.00033535  0.00669285  0.0474259  0.00669285  0.000123395"
      ]
     },
     "execution_count": 3,
     "metadata": {},
     "output_type": "execute_result"
    }
   ],
   "source": [
    "# 請在此撰寫計算 sigmoid\n",
    "1 ./ (1 .+ exp.(A))"
   ]
  },
  {
   "cell_type": "markdown",
   "metadata": {},
   "source": [
    "## 作業2：線性代數基礎運算 Matrix Multiplication 及 Addition\n",
    "\n",
    "假設 A 是 $n\\times m$ 的矩陣，B 是 $m\\times p$ 的矩陣，則矩陣乘法的積 AB 是 $\\displaystyle n\\times p$ 的矩陣。\n",
    "\n",
    "作業2 請撰寫程式，隨機產生矩陣 $W$ 及 $X$，計算線性方程式 $WX+b$。\n",
    "\n",
    "【提示】點運算的介紹，可回顧 Day 005 內容及範例。"
   ]
  },
  {
   "cell_type": "code",
   "execution_count": 4,
   "metadata": {},
   "outputs": [
    {
     "data": {
      "text/plain": [
       "1"
      ]
     },
     "execution_count": 4,
     "metadata": {},
     "output_type": "execute_result"
    }
   ],
   "source": [
    "# 給定 bias 變數值\n",
    "# 這邊給定的是純量，在矩陣加法中透過 broadcasting 進行加法\n",
    "b = 1"
   ]
  },
  {
   "cell_type": "code",
   "execution_count": 5,
   "metadata": {},
   "outputs": [
    {
     "data": {
      "text/plain": [
       "10×5 Array{Float64,2}:\n",
       " 0.787398   0.400444  0.775321   0.0711226  0.528191\n",
       " 0.47242    0.233375  0.672425   0.148517   0.0167463\n",
       " 0.319119   0.770343  0.650439   0.43278    0.118496\n",
       " 0.917241   0.933411  0.270496   0.809407   0.426929\n",
       " 0.858634   0.250351  0.0886102  0.570678   0.280368\n",
       " 0.54719    0.929102  0.310179   0.121673   0.541913\n",
       " 0.0714004  0.82823   0.836316   0.192905   0.233241\n",
       " 0.682733   0.396029  0.932992   0.0147057  0.240784\n",
       " 0.324671   0.761185  0.634936   0.986694   0.728413\n",
       " 0.334592   0.166613  0.144089   0.320999   0.620617"
      ]
     },
     "execution_count": 5,
     "metadata": {},
     "output_type": "execute_result"
    }
   ],
   "source": [
    "W = rand(10, 5)"
   ]
  },
  {
   "cell_type": "code",
   "execution_count": 6,
   "metadata": {},
   "outputs": [
    {
     "data": {
      "text/plain": [
       "5×10 Array{Float64,2}:\n",
       " 0.944997  0.904709  0.759097   0.75937    …  0.470772  0.494298   0.165104\n",
       " 0.221947  0.127975  0.0980675  0.479964      0.357609  0.75394    0.158491\n",
       " 0.86902   0.246373  0.475202   0.100708      0.571442  0.72866    0.898914\n",
       " 0.572867  0.601301  0.293744   0.0348863     0.353791  0.0487593  0.0658932\n",
       " 0.29539   0.987615  0.898483   0.840927      0.365358  0.0452808  0.126678"
      ]
     },
     "execution_count": 6,
     "metadata": {},
     "output_type": "execute_result"
    }
   ],
   "source": [
    "X = rand(5, 10)"
   ]
  },
  {
   "cell_type": "code",
   "execution_count": 7,
   "metadata": {},
   "outputs": [
    {
     "data": {
      "text/plain": [
       "10×10 Array{Float64,2}:\n",
       " 2.7035   2.51905  2.50088  2.31486  …  2.39627  2.17508  2.28345  1.96201\n",
       " 2.17261  1.72878  1.75971  1.55774     1.75662  1.74877  1.90744  1.73135\n",
       " 2.32071  1.9248   1.86047  1.79232     1.72082  1.99381  2.23895  1.803\n",
       " 2.89882  2.92427  2.5377   2.55902     2.41795  2.36252  2.41302  1.64995\n",
       " 2.35372  2.45073  2.13798  2.03678     2.14746  1.84872  1.71826  1.33422\n",
       " 2.22263  2.29873  2.17652  2.35265  …  2.01676  2.00815  2.22745  1.59309\n",
       " 2.15748  1.72298  1.79907  1.73883     1.57403  1.96117  2.28909  1.93709\n",
       " 2.62342  2.14487  2.22112  2.00548     2.17307  2.08936  2.32751  2.04564\n",
       " 2.80794  2.86027  2.56713  2.32279     2.17634  2.4031   2.27812  1.90229\n",
       " 1.8456   2.16548  1.9907   1.88165     1.80822  1.63975  1.43975  1.31094"
      ]
     },
     "execution_count": 7,
     "metadata": {},
     "output_type": "execute_result"
    }
   ],
   "source": [
    "# 請在此撰寫計算線性方程式\n",
    "W*X .+ 1 "
   ]
  },
  {
   "cell_type": "code",
   "execution_count": null,
   "metadata": {},
   "outputs": [],
   "source": []
  }
 ],
 "metadata": {
  "kernelspec": {
   "display_name": "Julia 1.4.0",
   "language": "julia",
   "name": "julia-1.4"
  },
  "language_info": {
   "file_extension": ".jl",
   "mimetype": "application/julia",
   "name": "julia",
   "version": "1.4.0"
  }
 },
 "nbformat": 4,
 "nbformat_minor": 4
}
